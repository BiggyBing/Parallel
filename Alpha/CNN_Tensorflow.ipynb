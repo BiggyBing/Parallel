{
 "cells": [
  {
   "cell_type": "code",
   "execution_count": 3,
   "metadata": {},
   "outputs": [],
   "source": [
    "import tensorflow as tf\n",
    "import numpy as np\n",
    "from tensorflow.examples.tutorials.mnist import input_data"
   ]
  },
  {
   "cell_type": "code",
   "execution_count": 4,
   "metadata": {},
   "outputs": [
    {
     "name": "stdout",
     "output_type": "stream",
     "text": [
      "WARNING:tensorflow:From <ipython-input-4-b0ea13031bfb>:1: read_data_sets (from tensorflow.contrib.learn.python.learn.datasets.mnist) is deprecated and will be removed in a future version.\n",
      "Instructions for updating:\n",
      "Please use alternatives such as official/mnist/dataset.py from tensorflow/models.\n",
      "WARNING:tensorflow:From C:\\Users\\wenbi\\Anaconda2\\envs\\py36\\lib\\site-packages\\tensorflow\\contrib\\learn\\python\\learn\\datasets\\mnist.py:260: maybe_download (from tensorflow.contrib.learn.python.learn.datasets.base) is deprecated and will be removed in a future version.\n",
      "Instructions for updating:\n",
      "Please write your own downloading logic.\n",
      "WARNING:tensorflow:From C:\\Users\\wenbi\\Anaconda2\\envs\\py36\\lib\\site-packages\\tensorflow\\contrib\\learn\\python\\learn\\datasets\\mnist.py:262: extract_images (from tensorflow.contrib.learn.python.learn.datasets.mnist) is deprecated and will be removed in a future version.\n",
      "Instructions for updating:\n",
      "Please use tf.data to implement this functionality.\n",
      "Extracting MNIST_data/train-images-idx3-ubyte.gz\n",
      "WARNING:tensorflow:From C:\\Users\\wenbi\\Anaconda2\\envs\\py36\\lib\\site-packages\\tensorflow\\contrib\\learn\\python\\learn\\datasets\\mnist.py:267: extract_labels (from tensorflow.contrib.learn.python.learn.datasets.mnist) is deprecated and will be removed in a future version.\n",
      "Instructions for updating:\n",
      "Please use tf.data to implement this functionality.\n",
      "Extracting MNIST_data/train-labels-idx1-ubyte.gz\n",
      "WARNING:tensorflow:From C:\\Users\\wenbi\\Anaconda2\\envs\\py36\\lib\\site-packages\\tensorflow\\contrib\\learn\\python\\learn\\datasets\\mnist.py:110: dense_to_one_hot (from tensorflow.contrib.learn.python.learn.datasets.mnist) is deprecated and will be removed in a future version.\n",
      "Instructions for updating:\n",
      "Please use tf.one_hot on tensors.\n",
      "Extracting MNIST_data/t10k-images-idx3-ubyte.gz\n",
      "Extracting MNIST_data/t10k-labels-idx1-ubyte.gz\n",
      "WARNING:tensorflow:From C:\\Users\\wenbi\\Anaconda2\\envs\\py36\\lib\\site-packages\\tensorflow\\contrib\\learn\\python\\learn\\datasets\\mnist.py:290: DataSet.__init__ (from tensorflow.contrib.learn.python.learn.datasets.mnist) is deprecated and will be removed in a future version.\n",
      "Instructions for updating:\n",
      "Please use alternatives such as official/mnist/dataset.py from tensorflow/models.\n"
     ]
    }
   ],
   "source": [
    "mnist = input_data.read_data_sets(\"MNIST_data/\", one_hot=True)\n",
    "\n",
    "# Python optimisation variables\n",
    "learning_rate = 0.0001\n",
    "epochs = 1\n",
    "batch_size = 50\n",
    "\n",
    "# declare the training data placeholders\n",
    "# input x - for 28 x 28 pixels = 784 - this is the flattened image data that is drawn from \n",
    "# mnist.train.nextbatch()\n",
    "x = tf.placeholder(tf.float32, [None, 784])\n",
    "# dynamically reshape the input\n",
    "x_shaped = tf.reshape(x, [-1, 28, 28, 1])\n",
    "# now declare the output data placeholder - 10 digits\n",
    "y = tf.placeholder(tf.float32, [None, 10])"
   ]
  },
  {
   "cell_type": "code",
   "execution_count": 5,
   "metadata": {},
   "outputs": [],
   "source": [
    "from tensorflow.python.training.adam import AdamOptimizer\n",
    "#tf.train.AdamOptimizer"
   ]
  },
  {
   "cell_type": "code",
   "execution_count": 6,
   "metadata": {},
   "outputs": [],
   "source": [
    "class AdamOptimizer_Bing(AdamOptimizer):\n",
    "    def __init__(self, learning_rate=0.001, beta1=0.9, beta2=0.999, epsilon=1e-8,\n",
    "               use_locking=False, name=\"Adam\"):\n",
    "\n",
    "        super(AdamOptimizer, self).__init__(use_locking, name)\n",
    "        self._lr = learning_rate\n",
    "        self._beta1 = beta1\n",
    "        self._beta2 = beta2\n",
    "        self._epsilon = epsilon\n",
    "\n",
    "        # Tensor versions of the constructor arguments, created in _prepare().\n",
    "        self._lr_t = None\n",
    "        self._beta1_t = None\n",
    "        self._beta2_t = None\n",
    "        self._epsilon_t = None\n",
    "\n",
    "        # Created in SparseApply if needed.\n",
    "        self._updated_lr = None\n",
    "    \n",
    "    def minimize(self, loss, global_step=None, var_list=None,\n",
    "               gate_gradients=1, aggregation_method=None,\n",
    "               colocate_gradients_with_ops=False, name=None,\n",
    "               grad_loss=None):\n",
    "        \"\"\"\n",
    "        The same as function minimize, but return the result of compute_gradients\n",
    "        Created by: Big Bing in 7/28 \n",
    "        Purpose: To realize parallel computing(communicate gradient)\n",
    "        \"\"\"\n",
    "        grads_and_vars = self.compute_gradients(\n",
    "            loss, var_list=var_list, gate_gradients=gate_gradients,\n",
    "            aggregation_method=aggregation_method,\n",
    "            colocate_gradients_with_ops=colocate_gradients_with_ops,\n",
    "            grad_loss=grad_loss)[-8:]\n",
    "\n",
    "        vars_with_grad = [v for g, v in grads_and_vars if g is not None]\n",
    "        if not vars_with_grad:\n",
    "          raise ValueError(\n",
    "              \"No gradients provided for any variable, check your graph for ops\"\n",
    "              \" that do not support gradients, between variables %s and loss %s.\" %\n",
    "              ([str(v) for _, v in grads_and_vars], loss))\n",
    "        #self.apply_gradients(grads_and_vars, global_step=global_step, name=name)\n",
    "\n",
    "        return self.apply_gradients(grads_and_vars, global_step=global_step, name=name),grads_and_vars"
   ]
  },
  {
   "cell_type": "code",
   "execution_count": 7,
   "metadata": {},
   "outputs": [],
   "source": [
    "def create_new_conv_layer(input_data, num_input_channels, num_filters, filter_shape, pool_shape, name):\n",
    "    # setup the filter input shape for tf.nn.conv_2d\n",
    "    conv_filt_shape = [filter_shape[0], filter_shape[1], num_input_channels,\n",
    "                      num_filters]\n",
    "\n",
    "    # initialise weights and bias for the filter\n",
    "    weights = tf.Variable(tf.truncated_normal(conv_filt_shape, stddev=0.03),\n",
    "                                      name=name+'_W')\n",
    "    bias = tf.Variable(tf.truncated_normal([num_filters]), name=name+'_b')\n",
    "\n",
    "    # setup the convolutional layer operation\n",
    "    out_layer = tf.nn.conv2d(input_data, weights, [1, 1, 1, 1], padding='SAME')\n",
    "\n",
    "    # add the bias\n",
    "    out_layer += bias\n",
    "\n",
    "    # apply a ReLU non-linear activation\n",
    "    out_layer = tf.nn.relu(out_layer)\n",
    "\n",
    "    # now perform max pooling\n",
    "    ksize = [1, pool_shape[0], pool_shape[1], 1]\n",
    "    strides = [1, 2, 2, 1]\n",
    "    out_layer = tf.nn.max_pool(out_layer, ksize=ksize, strides=strides, \n",
    "                               padding='SAME')\n",
    "\n",
    "    return out_layer"
   ]
  },
  {
   "cell_type": "code",
   "execution_count": 8,
   "metadata": {},
   "outputs": [],
   "source": [
    "# create some convolutional layers\n",
    "layer1 = create_new_conv_layer(x_shaped, 1, 32, [5, 5], [2, 2], name='layer1')\n",
    "layer2 = create_new_conv_layer(layer1, 32, 64, [5, 5], [2, 2], name='layer2')"
   ]
  },
  {
   "cell_type": "code",
   "execution_count": 9,
   "metadata": {},
   "outputs": [],
   "source": [
    "flattened = tf.reshape(layer2, [-1, 7 * 7 * 64])"
   ]
  },
  {
   "cell_type": "code",
   "execution_count": 10,
   "metadata": {},
   "outputs": [],
   "source": [
    "# setup some weights and bias values for this layer, then activate with ReLU\n",
    "wd1 = tf.Variable(tf.truncated_normal([7 * 7 * 64, 1000], stddev=0.03), name='wd1')\n",
    "bd1 = tf.Variable(tf.truncated_normal([1000], stddev=0.01), name='bd1')\n",
    "dense_layer1 = tf.matmul(flattened, wd1) + bd1\n",
    "dense_layer1 = tf.nn.relu(dense_layer1)"
   ]
  },
  {
   "cell_type": "code",
   "execution_count": 11,
   "metadata": {},
   "outputs": [],
   "source": [
    "# another layer with softmax activations\n",
    "wd2 = tf.Variable(tf.truncated_normal([1000, 10], stddev=0.03), name='wd2')\n",
    "bd2 = tf.Variable(tf.truncated_normal([10], stddev=0.01), name='bd2')\n",
    "dense_layer2 = tf.matmul(dense_layer1, wd2) + bd2\n",
    "y_ = tf.nn.softmax(dense_layer2)"
   ]
  },
  {
   "cell_type": "code",
   "execution_count": 12,
   "metadata": {},
   "outputs": [
    {
     "name": "stdout",
     "output_type": "stream",
     "text": [
      "WARNING:tensorflow:From <ipython-input-12-9ac016284921>:1: softmax_cross_entropy_with_logits (from tensorflow.python.ops.nn_ops) is deprecated and will be removed in a future version.\n",
      "Instructions for updating:\n",
      "\n",
      "Future major versions of TensorFlow will allow gradients to flow\n",
      "into the labels input on backprop by default.\n",
      "\n",
      "See @{tf.nn.softmax_cross_entropy_with_logits_v2}.\n",
      "\n"
     ]
    }
   ],
   "source": [
    "cross_entropy = tf.reduce_mean(tf.nn.softmax_cross_entropy_with_logits(logits=dense_layer2, labels=y))"
   ]
  },
  {
   "cell_type": "code",
   "execution_count": 13,
   "metadata": {},
   "outputs": [],
   "source": [
    "# add an optimiser\n",
    "optimizer_gradient = AdamOptimizer_Bing(learning_rate=learning_rate).minimize(cross_entropy)\n",
    "optimizer = AdamOptimizer(learning_rate=learning_rate).minimize(cross_entropy)"
   ]
  },
  {
   "cell_type": "code",
   "execution_count": 14,
   "metadata": {},
   "outputs": [
    {
     "name": "stdout",
     "output_type": "stream",
     "text": [
      "\n",
      "Training complete!\n"
     ]
    }
   ],
   "source": [
    "# setup the initialisation operator\n",
    "init_op = tf.global_variables_initializer()\n",
    "grad = []\n",
    "with tf.Session() as sess:\n",
    "    # initialise the variables\n",
    "    sess.run(init_op)\n",
    "    total_batch = int(len(mnist.train.labels))\n",
    "    count = 0\n",
    "    for epoch in range(1):\n",
    "        batch_x, batch_y = mnist.train.next_batch(batch_size=total_batch)\n",
    "        g,c = sess.run([optimizer_gradient,cross_entropy], feed_dict={x: batch_x, y: batch_y})\n",
    "        \n",
    "    print(\"\\nTraining complete!\")\n"
   ]
  },
  {
   "cell_type": "code",
   "execution_count": 17,
   "metadata": {},
   "outputs": [],
   "source": [
    "g = np.array(g[1])"
   ]
  },
  {
   "cell_type": "code",
   "execution_count": 31,
   "metadata": {},
   "outputs": [],
   "source": [
    "b = g[:,0]"
   ]
  },
  {
   "cell_type": "code",
   "execution_count": 34,
   "metadata": {},
   "outputs": [
    {
     "data": {
      "text/plain": [
       "(3136, 1000)"
      ]
     },
     "execution_count": 34,
     "metadata": {},
     "output_type": "execute_result"
    }
   ],
   "source": [
    "b[4].shape"
   ]
  },
  {
   "cell_type": "code",
   "execution_count": 20,
   "metadata": {},
   "outputs": [],
   "source": [
    "a = batch_parameter_collector(g)"
   ]
  },
  {
   "cell_type": "code",
   "execution_count": 22,
   "metadata": {},
   "outputs": [
    {
     "data": {
      "text/plain": [
       "(800,)"
      ]
     },
     "execution_count": 22,
     "metadata": {},
     "output_type": "execute_result"
    }
   ],
   "source": [
    "a[0].shape"
   ]
  },
  {
   "cell_type": "code",
   "execution_count": 2,
   "metadata": {},
   "outputs": [
    {
     "ename": "NameError",
     "evalue": "name 'g' is not defined",
     "output_type": "error",
     "traceback": [
      "\u001b[1;31m---------------------------------------------------------------------------\u001b[0m",
      "\u001b[1;31mNameError\u001b[0m                                 Traceback (most recent call last)",
      "\u001b[1;32m<ipython-input-2-a83d62326ae7>\u001b[0m in \u001b[0;36m<module>\u001b[1;34m()\u001b[0m\n\u001b[0;32m      1\u001b[0m \u001b[0mc\u001b[0m \u001b[1;33m=\u001b[0m \u001b[1;33m[\u001b[0m\u001b[1;33m]\u001b[0m\u001b[1;33m\u001b[0m\u001b[0m\n\u001b[0;32m      2\u001b[0m \u001b[1;32mfor\u001b[0m \u001b[0mi\u001b[0m \u001b[1;32min\u001b[0m \u001b[0mrange\u001b[0m\u001b[1;33m(\u001b[0m\u001b[1;36m8\u001b[0m\u001b[1;33m)\u001b[0m\u001b[1;33m:\u001b[0m\u001b[1;33m\u001b[0m\u001b[0m\n\u001b[1;32m----> 3\u001b[1;33m     \u001b[0ma\u001b[0m \u001b[1;33m=\u001b[0m \u001b[0mg\u001b[0m\u001b[1;33m[\u001b[0m\u001b[0mi\u001b[0m\u001b[1;33m]\u001b[0m\u001b[1;33m[\u001b[0m\u001b[1;36m1\u001b[0m\u001b[1;33m]\u001b[0m\u001b[1;33m\u001b[0m\u001b[0m\n\u001b[0m\u001b[0;32m      4\u001b[0m     \u001b[0mc\u001b[0m\u001b[1;33m.\u001b[0m\u001b[0mappend\u001b[0m\u001b[1;33m(\u001b[0m\u001b[0ma\u001b[0m\u001b[1;33m)\u001b[0m\u001b[1;33m\u001b[0m\u001b[0m\n",
      "\u001b[1;31mNameError\u001b[0m: name 'g' is not defined"
     ]
    }
   ],
   "source": [
    "c = []\n",
    "for i in range(8):\n",
    "    a = g[i][1]\n",
    "    c.append(a)"
   ]
  },
  {
   "cell_type": "code",
   "execution_count": 19,
   "metadata": {},
   "outputs": [],
   "source": [
    "def batch_parameter_collector(paramter):\n",
    "    '''\n",
    "    Collect the gradient of each batch\n",
    "    Input: the return value of optimizer.compute_gradients (grad_var list)\n",
    "    Output: the sum of gradients within one epoch as a vector\n",
    "    \n",
    "    '''\n",
    "    paramter = np.array(paramter)\n",
    "    #shape_list record parameter shapes of each layer\n",
    "    parameter_vector = []\n",
    "    for i in range(paramter.shape[0]):\n",
    "        parameter_temp = paramter[i,1].flatten()\n",
    "        parameter_vector.append(parameter_temp)\n",
    "        \n",
    "    return np.array(parameter_vector)"
   ]
  },
  {
   "cell_type": "code",
   "execution_count": 41,
   "metadata": {},
   "outputs": [],
   "source": [
    "c = c.flatten()"
   ]
  },
  {
   "cell_type": "code",
   "execution_count": 46,
   "metadata": {},
   "outputs": [
    {
     "data": {
      "text/plain": [
       "array([[[ 0.03369243, -0.03081585,  0.002443  , -0.03168654,\n",
       "          0.01637692,  0.01739312, -0.00290238,  0.02563729,\n",
       "         -0.03621509, -0.02130874, -0.00868434,  0.04764776,\n",
       "          0.01160116, -0.0274205 , -0.0165049 ,  0.01610075,\n",
       "         -0.02719073,  0.00178517,  0.00649393,  0.04148226,\n",
       "         -0.03355931,  0.03307768, -0.011563  , -0.02181776,\n",
       "          0.03210377, -0.00106341, -0.00159062, -0.00045102,\n",
       "         -0.01758818,  0.00028138,  0.00488585, -0.0129739 ]],\n",
       "\n",
       "       [[-0.05502194,  0.01712925, -0.00403057, -0.02017778,\n",
       "         -0.03627938, -0.02287476, -0.02205104, -0.01227884,\n",
       "          0.00573386, -0.0076336 ,  0.00929266, -0.03580606,\n",
       "          0.0045444 ,  0.05044917,  0.01038548,  0.00268515,\n",
       "         -0.02750078,  0.01958369,  0.00554364, -0.03375189,\n",
       "         -0.00480494,  0.02911807, -0.0040464 , -0.00561467,\n",
       "         -0.05437297, -0.01555247, -0.01706062,  0.01919681,\n",
       "         -0.00066995,  0.01664072,  0.03745938, -0.01683863]],\n",
       "\n",
       "       [[-0.00181801,  0.01122453,  0.01411985,  0.01750326,\n",
       "          0.03950982, -0.01793845,  0.01860122,  0.0535367 ,\n",
       "         -0.04152856,  0.00698515,  0.00061988,  0.01432074,\n",
       "         -0.01033138,  0.0424484 ,  0.01711606,  0.02612312,\n",
       "         -0.00165706, -0.01920061,  0.02596092, -0.02406651,\n",
       "         -0.02734867,  0.01585441, -0.01955258,  0.00779994,\n",
       "          0.01127871, -0.0237766 ,  0.0542452 , -0.05602049,\n",
       "         -0.02855019,  0.02326013,  0.05277295,  0.00033921]],\n",
       "\n",
       "       [[-0.02187982,  0.02572591,  0.00070824,  0.00621459,\n",
       "          0.00837972, -0.02209915,  0.01014432, -0.03431185,\n",
       "         -0.0157194 , -0.02419076,  0.01154746, -0.01862991,\n",
       "         -0.00030208,  0.03477129, -0.05428418, -0.00127173,\n",
       "          0.02019881,  0.00688518,  0.0273498 , -0.01991339,\n",
       "          0.02997081, -0.03691716, -0.01779013,  0.00725595,\n",
       "          0.02526867,  0.0117206 , -0.00651234,  0.0518963 ,\n",
       "         -0.04480414, -0.01475686, -0.02965895, -0.01932631]],\n",
       "\n",
       "       [[-0.00235436,  0.01948994,  0.00451313,  0.01056042,\n",
       "         -0.00503455,  0.03276005,  0.00851775,  0.00268737,\n",
       "         -0.01455192,  0.00913815, -0.01710033,  0.00301008,\n",
       "         -0.02632968,  0.0259751 ,  0.04460118,  0.00057824,\n",
       "          0.02850192, -0.02462894, -0.04916807, -0.03683768,\n",
       "          0.02331236, -0.02279362, -0.00133402,  0.0347936 ,\n",
       "          0.01230806, -0.03939792,  0.01611446,  0.03809515,\n",
       "          0.01634703, -0.0151493 ,  0.006381  , -0.00939845]]],\n",
       "      dtype=float32)"
      ]
     },
     "execution_count": 46,
     "metadata": {},
     "output_type": "execute_result"
    }
   ],
   "source": [
    "c[0][0]"
   ]
  },
  {
   "cell_type": "code",
   "execution_count": 33,
   "metadata": {},
   "outputs": [],
   "source": [
    "b = b.flatten()"
   ]
  },
  {
   "cell_type": "code",
   "execution_count": null,
   "metadata": {
    "scrolled": true
   },
   "outputs": [],
   "source": [
    "correct_prediction = tf.equal(tf.argmax(y, 1), tf.argmax(y_, 1))\n",
    "accuracy = tf.reduce_mean(tf.cast(correct_prediction, tf.float32))\n",
    "\n",
    "\n",
    "# setup the initialisation operator\n",
    "init_op = tf.global_variables_initializer()\n",
    "grad = []\n",
    "with tf.Session() as sess:\n",
    "    # initialise the variables\n",
    "    sess.run(init_op)\n",
    "    total_batch = int(len(mnist.train.labels) / batch_size)\n",
    "    count = 0\n",
    "    for epoch in range(1):\n",
    "        avg_cost = 0\n",
    "        if count == epochs - 1:\n",
    "            for i in range(total_batch):\n",
    "                batch_x, batch_y = mnist.train.next_batch(batch_size=batch_size)\n",
    "                g,c = sess.run([optimizer_gradient,cross_entropy], feed_dict={x: batch_x, y: batch_y})\n",
    "                gradient_temp = batch_gradient_collector(g[1])\n",
    "                grad.append(gradient_temp)\n",
    "                avg_cost += c / total_batch\n",
    "            shape_list = parameter_shape(g[1])\n",
    "            #Sum up gradients from each batch\n",
    "            gradient = np.array(grad).sum(axis = 0)\n",
    "        \n",
    "        else:\n",
    "            print('SB')\n",
    "            for i in range(total_batch):\n",
    "                batch_x, batch_y = mnist.train.next_batch(batch_size=batch_size)\n",
    "                _,c = sess.run([optimizer,cross_entropy], feed_dict={x: batch_x, y: batch_y})\n",
    "                avg_cost += c / total_batch\n",
    "            \n",
    "            \n",
    "        count += 1   \n",
    "        test_acc = sess.run(accuracy, \n",
    "                       feed_dict={x: mnist.test.images, y: mnist.test.labels})\n",
    "        print(\"Epoch:\", (epoch + 1), \"cost =\", \"{:.3f}\".format(avg_cost), \"test accuracy: {:.3f}\".format(test_acc))\n",
    "\n",
    "    print(\"\\nTraining complete!\")\n",
    "    print(sess.run(accuracy, feed_dict={x: mnist.test.images, y: mnist.test.labels}))"
   ]
  },
  {
   "cell_type": "code",
   "execution_count": 14,
   "metadata": {},
   "outputs": [],
   "source": [
    "def batch_gradient_collector(gradient):\n",
    "    '''\n",
    "    Collect the gradient of each batch\n",
    "    Input: the return value of optimizer.compute_gradients (many matrices)\n",
    "    Output: the sum of gradients within one epoch as a vector\n",
    "    \n",
    "    '''\n",
    "    gradient = np.array(gradient)\n",
    "    #shape_list record parameter shapes of each layer\n",
    "    gradient_vector = []\n",
    "    for i in range(gradient.shape[0]):\n",
    "        grad_temp = gradient[i,0].flatten()\n",
    "        gradient_vector.append(grad_temp)\n",
    "        \n",
    "    return np.array(gradient_vector)\n",
    "        "
   ]
  },
  {
   "cell_type": "code",
   "execution_count": 15,
   "metadata": {},
   "outputs": [],
   "source": [
    "def parameter_shape(gradient):\n",
    "    '''\n",
    "    Record the parameters original shape\n",
    "    Input: the return value of optimizer.compute_gradients (many matrices)\n",
    "    Output: A list of shape\n",
    "    \n",
    "    '''\n",
    "    gradient = np.array(gradient)\n",
    "    #shape_list record parameter shapes of each layer\n",
    "    shape_list = []\n",
    "    for i in range(gradient.shape[0]):\n",
    "        grad_temp = gradient[i,0].flatten()\n",
    "        shape_list.append(['Layer_'+str(i+1), gradient[i,0].shape, grad_temp.shape[0]])\n",
    "        \n",
    "    return shape_list"
   ]
  },
  {
   "cell_type": "code",
   "execution_count": 1,
   "metadata": {},
   "outputs": [
    {
     "ename": "NameError",
     "evalue": "name 'g' is not defined",
     "output_type": "error",
     "traceback": [
      "\u001b[1;31m---------------------------------------------------------------------------\u001b[0m",
      "\u001b[1;31mNameError\u001b[0m                                 Traceback (most recent call last)",
      "\u001b[1;32m<ipython-input-1-a5938ace3f42>\u001b[0m in \u001b[0;36m<module>\u001b[1;34m()\u001b[0m\n\u001b[1;32m----> 1\u001b[1;33m \u001b[0mg\u001b[0m\u001b[1;33m\u001b[0m\u001b[0m\n\u001b[0m",
      "\u001b[1;31mNameError\u001b[0m: name 'g' is not defined"
     ]
    }
   ],
   "source": [
    "g"
   ]
  },
  {
   "cell_type": "code",
   "execution_count": null,
   "metadata": {},
   "outputs": [],
   "source": []
  }
 ],
 "metadata": {
  "kernelspec": {
   "display_name": "Python 3",
   "language": "python",
   "name": "python3"
  },
  "language_info": {
   "codemirror_mode": {
    "name": "ipython",
    "version": 3
   },
   "file_extension": ".py",
   "mimetype": "text/x-python",
   "name": "python",
   "nbconvert_exporter": "python",
   "pygments_lexer": "ipython3",
   "version": "3.6.5"
  }
 },
 "nbformat": 4,
 "nbformat_minor": 2
}
