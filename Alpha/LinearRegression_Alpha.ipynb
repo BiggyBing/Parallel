{
 "cells": [
  {
   "cell_type": "markdown",
   "metadata": {},
   "source": [
    "# Original version:\n",
    "- Dataset: Iris\n",
    "- Model: l2 linear regression\n",
    "- parallel: 3 parallel engines and controller in the same laptop"
   ]
  },
  {
   "cell_type": "code",
   "execution_count": 1,
   "metadata": {},
   "outputs": [],
   "source": [
    "import ipyparallel as ipp\n",
    "import numpy as np\n",
    "import time"
   ]
  },
  {
   "cell_type": "code",
   "execution_count": 2,
   "metadata": {},
   "outputs": [],
   "source": [
    "c = ipp.Client()\n",
    "#create a directview\n",
    "dview = c[:]"
   ]
  },
  {
   "cell_type": "code",
   "execution_count": 3,
   "metadata": {},
   "outputs": [
    {
     "data": {
      "text/plain": [
       "[0, 1, 2]"
      ]
     },
     "execution_count": 3,
     "metadata": {},
     "output_type": "execute_result"
    }
   ],
   "source": [
    "c.ids"
   ]
  },
  {
   "cell_type": "code",
   "execution_count": 4,
   "metadata": {},
   "outputs": [],
   "source": [
    "from sklearn import datasets\n",
    "iris = datasets.load_iris()\n",
    "train = iris.data\n",
    "target = iris.target"
   ]
  },
  {
   "cell_type": "code",
   "execution_count": 5,
   "metadata": {},
   "outputs": [],
   "source": [
    "#sending date to engines\n",
    "c[0]['X'] = train[:50]\n",
    "c[1]['X'] = train[50:100]\n",
    "c[2]['X'] = train[100:150]\n",
    "\n",
    "c[0]['y'] = target[:50]\n",
    "c[1]['y'] = target[50:100]\n",
    "c[2]['y'] = target[100:150]"
   ]
  },
  {
   "cell_type": "code",
   "execution_count": 6,
   "metadata": {},
   "outputs": [],
   "source": [
    "#Algorithm 2 - line 7, retrieve w and c from aggregator \n",
    "def wc_from_eng(engine):\n",
    "    w = []\n",
    "    c = []\n",
    "    for i in range(len(engine.ids)):\n",
    "        w.append(engine[i]['lr.get_coef()'])\n",
    "        c.append(engine[i]['lr.Est_Resource()']) \n",
    "    return w,c"
   ]
  },
  {
   "cell_type": "code",
   "execution_count": 7,
   "metadata": {},
   "outputs": [],
   "source": [
    "#Algorithm 2 - line 8, global parameter updata according to (5)\n",
    "data_size = np.array([150,150,150])\n",
    "def global_update(w_local,data_size):\n",
    "    temp = 0\n",
    "    for i in range(len(w_local)):\n",
    "        temp = temp + w_local[i] * data_size[i]\n",
    "    return temp/data_size.sum()\n",
    "        "
   ]
  },
  {
   "cell_type": "code",
   "execution_count": 8,
   "metadata": {},
   "outputs": [],
   "source": [
    "#retrieve belta and grad to aggregator #Algorithm 2 - line 14\n",
    "def bg_from_eng(engine):\n",
    "    belta = []\n",
    "    grad = []\n",
    "    for i in range(len(engine.ids)):\n",
    "        belta.append(engine[i]['lr.belta'])\n",
    "        grad.append(engine[i]['lr.grad_t0']) \n",
    "    return belta,grad"
   ]
  },
  {
   "cell_type": "code",
   "execution_count": 9,
   "metadata": {},
   "outputs": [],
   "source": [
    "#Algorithm 2 - line 15\n",
    "def belta_update(belta_local,data_size):\n",
    "    temp = 0\n",
    "    for i in range(len(belta_local)):\n",
    "        temp = temp + np.array(belta_local[i]) * data_size[i]\n",
    "    return temp/data_size.sum()"
   ]
  },
  {
   "cell_type": "code",
   "execution_count": 10,
   "metadata": {},
   "outputs": [],
   "source": [
    "#Algorithm 2 - line 16\n",
    "def grad_update(grad_local,data_size):\n",
    "    temp = 0\n",
    "    for i in range(len(grad_local)):\n",
    "        temp = temp + np.array(grad_local[i]) * data_size[i]\n",
    "    return temp/data_size.sum()\n",
    "\n",
    "def delta_update(local_grad, grad_aggregator, data_size):\n",
    "    delta_local = []\n",
    "    local_grad = np.array(local_grad) \n",
    "    grad_aggregator = np.array(grad_aggregator)\n",
    "    for item in local_grad:\n",
    "        temp_delta = np.linalg.norm(item - grad_aggregator)\n",
    "        delta_local.append(temp_delta)\n",
    "    return belta_update(delta_local,data_size)"
   ]
  },
  {
   "cell_type": "code",
   "execution_count": 11,
   "metadata": {},
   "outputs": [],
   "source": [
    "#send torque and w to engines from aggregator\n",
    "def snd_to_eng(w,torque,engine):\n",
    "    for i in range(len(engine.ids)):\n",
    "        engine[i]['w_aggregator'] = w\n",
    "        engine[i]['torque_aggregator'] = torque[i]"
   ]
  },
  {
   "cell_type": "code",
   "execution_count": 12,
   "metadata": {},
   "outputs": [],
   "source": [
    "#Algorithm 2 - line 17, binary search for new torque\n",
    "def G(torque, delta, belta, eta, phi):\n",
    "    h = delta* (pow((eta*belta + 1),torque)-1)/belta - eta*delta*torque\n",
    "    G = torque*(eta*(1-belta*eta/2)-phi*h/torque)\n",
    "    return G\n",
    "\n",
    "def binary_search(torque,delta, belta, gamma,phi,eta = 0.0001):\n",
    "    upper_bound = int(gamma * torque)\n",
    "    G_list = []\n",
    "    for i in range(upper_bound):\n",
    "        torque_try = i + 1\n",
    "        G_list.append(G(torque_try, delta, belta, eta, phi))\n",
    "    torque_star = np.argmax(np.array(G_list)) + 1\n",
    "    return torque_star, G_list"
   ]
  },
  {
   "cell_type": "code",
   "execution_count": 13,
   "metadata": {},
   "outputs": [],
   "source": [
    "import numpy as np\n",
    "import time\n",
    "\n",
    "def compute_loss(w, feature, target):\n",
    "    m = len(target)\n",
    "    sum_of_square_errors = np.square(np.dot(feature,w)-target).sum()\n",
    "    cost = sum_of_square_errors/(2*m)\n",
    "    \n",
    "    return cost\n",
    "    \n",
    "\n",
    "class LinearRegression:\n",
    "\n",
    "    def __init__(self):\n",
    "        self.t = 0\n",
    "        self.t_0 = 0\n",
    "        self.grad = 0\n",
    "        self.learning_rate = 0.0001\n",
    "        self.torque = 0\n",
    "        self.belta = 0\n",
    "        self.resource = 0\n",
    "        self.grad_t0 = 0\n",
    "        self.history = []\n",
    "        self.w = 0\n",
    "        self.w_hat = 0\n",
    "        self.w_t0 = 0\n",
    "    def Rec_from_Agg(self, w_global, torque_global):\n",
    "        self.w_t0 = w_global\n",
    "        self.w_hat = w_global\n",
    "        self.torque = torque_global\n",
    "    def Snd_to_Agg(self):\n",
    "        if self.t_0 > 0:\n",
    "            return w,self.resource, self.belta, self.grad_t0\n",
    "        else:\n",
    "            return w,self.resource\n",
    "    def aa(self):\n",
    "        self.w = self.w_hat\n",
    "    \n",
    "    def Est_Resource(self):\n",
    "        return self.resource\n",
    "\n",
    "    def get_coef(self):\n",
    "        return self.w\n",
    "    \n",
    "    def set_coef(self, w_global):\n",
    "        self.w = w_global\n",
    "        \n",
    "    def Est_Belta(self ,X, y):\n",
    "        grad_global_parameter = np.dot((np.dot(X ,self.w_hat)-y), X)# In time t, the gradient of local loss of global parameters\n",
    "        self.grad_t0 = grad_global_parameter\n",
    "        self.belta = np.linalg.norm(self.grad - grad_global_parameter)/np.linalg.norm(self.w - self.w_hat)\n",
    "        \n",
    "    def time_record(self):\n",
    "        self.t_0 = self.t\n",
    "        \n",
    "    def fit(self, X, y):\n",
    "        self.w = self.w_hat #updata local w by aggregator \n",
    "        \n",
    "        count = 0\n",
    "        tic = time.time()\n",
    "        for i in range(self.torque): \n",
    "            \n",
    "            loss = compute_loss(self.w, X, y)\n",
    "            self.history.append([loss,str(self.t)])#record loss history from t=1, t=0(w intialization) not included\n",
    "            \n",
    "            self.t += 1\n",
    "            grad = np.dot((np.dot(X,self.w)-y), X) + 0.1*self.w\n",
    "            self.w = self.w - self.learning_rate * grad\n",
    "            count += 1\n",
    "            if count < self.torque:\n",
    "                self.w_hat = self.w\n",
    "            elif count == self.torque:\n",
    "                '''\n",
    "                #self.grad saved for belta computation. \n",
    "                #It denotes in time t(update time), the gradient of local loss of local parameters\n",
    "                \n",
    "                '''\n",
    "                self.grad = grad  \n",
    "            \n",
    "            \n",
    "        toc = time.time()\n",
    "        self.resource = toc - tic\n",
    "        \n",
    "        return self\n",
    "    \n",
    "    def predict(self, X):\n",
    "        \n",
    "        return np.dot(X, self.w)"
   ]
  },
  {
   "cell_type": "code",
   "execution_count": 14,
   "metadata": {},
   "outputs": [],
   "source": [
    "lr = LinearRegression()\n",
    "\n",
    "dview.push(dict(LinearRegression = LinearRegression))\n",
    "#sending LinearRegression object to engines\n",
    "dview['lr'] = lr"
   ]
  },
  {
   "cell_type": "code",
   "execution_count": 15,
   "metadata": {},
   "outputs": [
    {
     "data": {
      "text/plain": [
       "[<__main__.LinearRegression at 0x16f4c9bce80>,\n",
       " <__main__.LinearRegression at 0x16f4c9bcef0>,\n",
       " <__main__.LinearRegression at 0x16f4c9bcf60>]"
      ]
     },
     "execution_count": 15,
     "metadata": {},
     "output_type": "execute_result"
    }
   ],
   "source": [
    "dview['lr']"
   ]
  },
  {
   "cell_type": "code",
   "execution_count": 16,
   "metadata": {
    "scrolled": false
   },
   "outputs": [
    {
     "name": "stdout",
     "output_type": "stream",
     "text": [
      "0 iteration and loss is: 0.833333\n",
      "1 iteration and loss is: 0.833333\n"
     ]
    },
    {
     "name": "stderr",
     "output_type": "stream",
     "text": [
      "C:\\Users\\wenbi\\Anaconda2\\envs\\py36\\lib\\site-packages\\ipykernel_launcher.py:3: RuntimeWarning: invalid value encountered in double_scalars\n",
      "  This is separate from the ipykernel package so we can avoid doing imports until\n"
     ]
    },
    {
     "name": "stdout",
     "output_type": "stream",
     "text": [
      "New torque is: 1\n",
      "2 iteration and loss is: 0.833333\n",
      "New torque is: 1\n",
      "3 iteration and loss is: 0.833333\n",
      "New torque is: 1\n",
      "4 iteration and loss is: 0.833333\n",
      "New torque is: 1\n",
      "5 iteration and loss is: 0.833333\n",
      "New torque is: 1\n",
      "6 iteration and loss is: 0.833333\n",
      "New torque is: 1\n",
      "7 iteration and loss is: 0.833333\n",
      "New torque is: 1\n",
      "8 iteration and loss is: 0.833333\n",
      "New torque is: 1\n",
      "9 iteration and loss is: 0.833333\n",
      "New torque is: 1\n",
      "got unknown result: bc5c6aa1-a188e45ae65611dafd3483c710 iteration and loss is: 0.833333\n",
      "\n",
      "New torque is: 1\n",
      "11 iteration and loss is: 0.833333\n",
      "got unknown result: 1b7c3ff7-a43668cef24e05037a0f329f\n",
      "New torque is: 1\n",
      "12 iteration and loss is: 0.833333\n",
      "New torque is: 1\n",
      "13 iteration and loss is: 0.833333\n",
      "New torque is: 1\n",
      "14 iteration and loss is: 0.833333\n",
      "New torque is: 1\n",
      "15 iteration and loss is: 0.833333\n",
      "New torque is: 1\n",
      "16 iteration and loss is: 0.833333\n",
      "New torque is: 1\n",
      "17 iteration and loss is: 0.833333\n",
      "New torque is: 1\n",
      "18 iteration and loss is: 0.833333\n",
      "New torque is: 1\n",
      "19 iteration and loss is: 0.833333\n",
      "New torque is: 1\n",
      "20 iteration and loss is: 0.833333\n",
      "New torque is: 1\n",
      "21 iteration and loss is: 0.833333\n",
      "New torque is: 1\n",
      "22 iteration and loss is: 0.833333\n",
      "New torque is: 1\n",
      "23 iteration and loss is: 0.833333\n"
     ]
    },
    {
     "name": "stderr",
     "output_type": "stream",
     "text": [
      "C:\\Users\\wenbi\\Anaconda2\\envs\\py36\\lib\\site-packages\\ipykernel_launcher.py:54: RuntimeWarning: divide by zero encountered in double_scalars\n"
     ]
    }
   ],
   "source": [
    "import time \n",
    "t = 0\n",
    "s = 0\n",
    "b = 0 # aggregator consumption\n",
    "R = 5\n",
    "gamma = 10\n",
    "phi = 0.2\n",
    "w_aggregator = np.zeros(4)\n",
    "torque_aggregator = [1,1,1]\n",
    "stop = False\n",
    "loss_hist = []\n",
    "while True:\n",
    "    tic = time.time()\n",
    "    snd_to_eng(w_aggregator,torque_aggregator,c)\n",
    "    loss = compute_loss(w_aggregator,train,target)\n",
    "    loss_hist.append(loss)\n",
    "    print ('%d iteration and loss is: %f'%(t,loss))\n",
    "    t_0 = t\n",
    "    t = t + torque_aggregator[0]\n",
    "    dview.execute(\"\"\"\n",
    "import numpy as np\n",
    "import time    \n",
    "lr.Rec_from_Agg(w_aggregator, torque_aggregator)\n",
    "lr.time_record()\n",
    "if lr.t > 0:\n",
    "    lr.Est_Belta(X,y)\n",
    "lr.fit(X,y)\n",
    "    \"\"\")\n",
    "    \n",
    "    \n",
    "    w_local, c_local = wc_from_eng(c)\n",
    "    #calculate local consumption per iteration\n",
    "    c_per = np.array(c_local)/torque_aggregator[0]\n",
    "    w_aggregator = global_update(w_local, data_size)\n",
    "    if stop:\n",
    "        w_final = w_aggregator\n",
    "        break\n",
    "    #c_local.sum() equal to c*t\n",
    "    s = s + np.array(c_local).sum()+ b\n",
    "    \n",
    "    if t_0 > 0:\n",
    "        belta_local, grad_local = bg_from_eng(c)\n",
    "        belta_aggregator = belta_update(belta_local,data_size)\n",
    "        grad_aggregator = grad_update(grad_local,data_size)\n",
    "        delta_aggregator = delta_update(grad_local, grad_aggregator, data_size)\n",
    "        torque_update, G_list = binary_search(torque_aggregator[0], delta_aggregator, belta_aggregator, gamma, phi)\n",
    "        torque_aggregator = [torque_update for i in range(len(c.ids))]\n",
    "        print('New torque is:',torque_aggregator[0])\n",
    "    \n",
    "    toc = time.time()\n",
    "    b = toc - tic\n",
    "    temp = s + torque_aggregator[0]*c_per.sum() + b\n",
    "    if temp >= R:\n",
    "        torque_max = (R-b-s)/c_per.sum()\n",
    "        G_list = np.array(G_list)\n",
    "        G_min = G_list.min()\n",
    "        for i, item in enumerate(G_list):\n",
    "            if item >= torque_max:\n",
    "                itme = G_min\n",
    "        torque_updata = np.argmax(G_list) + 1\n",
    "        torque_aggregator = [torque_update for i in range(len(c.ids))]\n",
    "        stop = True "
   ]
  },
  {
   "cell_type": "code",
   "execution_count": 19,
   "metadata": {},
   "outputs": [
    {
     "data": {
      "text/plain": [
       "[array([0., 0., 0., 0.]), array([0., 0., 0., 0.]), array([0., 0., 0., 0.])]"
      ]
     },
     "execution_count": 19,
     "metadata": {},
     "output_type": "execute_result"
    }
   ],
   "source": [
    "dview['lr.w']"
   ]
  },
  {
   "cell_type": "code",
   "execution_count": 38,
   "metadata": {},
   "outputs": [],
   "source": [
    "import matplotlib.pyplot as plt"
   ]
  },
  {
   "cell_type": "code",
   "execution_count": 41,
   "metadata": {},
   "outputs": [],
   "source": [
    "x = np.arange(36)"
   ]
  },
  {
   "cell_type": "markdown",
   "metadata": {},
   "source": [
    "# Conclusion:\n",
    "- With a resource budget of 5 seconds, the aggregator totally ran 36 iterations and got loss of 0.097\n",
    "- The figure below illustrate the loss comparison between parallel computing and global computing of 36 iterations\n",
    "\n",
    "\n",
    "# Future work:\n",
    "- Try parallel computing with other engines and CPUs that connected by wifi.\n",
    "- Try other machine learning algorithm such as SVM and NN."
   ]
  },
  {
   "cell_type": "code",
   "execution_count": 50,
   "metadata": {},
   "outputs": [
    {
     "data": {
      "text/plain": [
       "Text(0,0.5,'Loss')"
      ]
     },
     "execution_count": 50,
     "metadata": {},
     "output_type": "execute_result"
    },
    {
     "data": {
      "image/png": "[encoded data removed]",
      "text/plain": [
       "<Figure size 432x288 with 1 Axes>"
      ]
     },
     "metadata": {},
     "output_type": "display_data"
    }
   ],
   "source": [
    "fig, ax = plt.subplots()\n",
    "plt.plot(x,lr1.history,label='Global')\n",
    "plt.plot(x,loss_hist,label='Parallel')\n",
    "ax.legend()\n",
    "ax.set_title('Training losses')\n",
    "ax.set_xlabel('Iterations',fontsize = 12)\n",
    "ax.set_ylabel('Loss', fontsize = 12)\n"
   ]
  },
  {
   "cell_type": "code",
   "execution_count": 26,
   "metadata": {},
   "outputs": [],
   "source": [
    "class LinearRegression_test:\n",
    "\n",
    "    def __init__(self):\n",
    "        self.t = 0\n",
    "        self.t_0 = 0\n",
    "        self.grad = 0\n",
    "        self.learning_rate = 0.0001\n",
    "        self.torque = 0\n",
    "        self.belta = 0\n",
    "        self.resource = 0\n",
    "        self.grad_t0 = 0\n",
    "        self.history = []\n",
    "        self.w = 0\n",
    "    def fit(self, X, y):\n",
    "        for i in range(self.torque):            \n",
    "            loss = compute_loss(self.w, X, y)\n",
    "            self.history.append(loss)#record loss history from t=1, t=0(w intialization) not included\n",
    "            self.t += 1\n",
    "            grad = np.dot((np.dot(X,self.w)-y), X) + 0.1*self.w\n",
    "            self.w = self.w - self.learning_rate * grad\n",
    "        \n",
    "        return self\n",
    "    \n",
    "    def predict(self, X):\n",
    "        \n",
    "        return np.dot(X, self.w)"
   ]
  },
  {
   "cell_type": "code",
   "execution_count": null,
   "metadata": {},
   "outputs": [],
   "source": []
  }
 ],
 "metadata": {
  "kernelspec": {
   "display_name": "Python 3",
   "language": "python",
   "name": "python3"
  },
  "language_info": {
   "codemirror_mode": {
    "name": "ipython",
    "version": 3
   },
   "file_extension": ".py",
   "mimetype": "text/x-python",
   "name": "python",
   "nbconvert_exporter": "python",
   "pygments_lexer": "ipython3",
   "version": "3.6.5"
  }
 },
 "nbformat": 4,
 "nbformat_minor": 2
}
