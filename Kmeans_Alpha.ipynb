{
 "cells": [
  {
   "cell_type": "code",
   "execution_count": 1,
   "metadata": {},
   "outputs": [],
   "source": [
    "import ipyparallel as ipp\n",
    "from scipy import stats\n",
    "import numpy as np\n",
    "import time"
   ]
  },
  {
   "cell_type": "code",
   "execution_count": 7,
   "metadata": {},
   "outputs": [],
   "source": [
    "c = ipp.Client()\n",
    "#create a directview\n",
    "dview = c[:]"
   ]
  },
  {
   "cell_type": "code",
   "execution_count": 8,
   "metadata": {},
   "outputs": [
    {
     "data": {
      "text/plain": [
       "[0, 1, 2]"
      ]
     },
     "execution_count": 8,
     "metadata": {},
     "output_type": "execute_result"
    }
   ],
   "source": [
    "c.ids"
   ]
  },
  {
   "cell_type": "code",
   "execution_count": 9,
   "metadata": {},
   "outputs": [],
   "source": [
    "from sklearn import datasets\n",
    "iris = datasets.load_iris()\n",
    "train = iris.data\n",
    "target = iris.target"
   ]
  },
  {
   "cell_type": "code",
   "execution_count": 10,
   "metadata": {},
   "outputs": [],
   "source": [
    "#sending date to engines\n",
    "c[0]['X'] = train\n",
    "c[1]['X'] = train\n",
    "c[2]['X'] = train"
   ]
  },
  {
   "cell_type": "code",
   "execution_count": 144,
   "metadata": {},
   "outputs": [],
   "source": [
    "def random_init_w(k_cluster,X):\n",
    "    describe = stats.describe(X)\n",
    "    w = np.random.normal(loc = describe[2], scale =describe[3], size = (k_cluster,len(X[0])))\n",
    "    \n",
    "    return w\n",
    "    "
   ]
  },
  {
   "cell_type": "code",
   "execution_count": 11,
   "metadata": {},
   "outputs": [],
   "source": [
    "#Algorithm 2 - line 7, retrieve w and c from aggregator \n",
    "def wc_from_eng(engine):\n",
    "    '''\n",
    "    Input:\n",
    "        parameter of w recieved from engines may be matrices\n",
    "    Output:\n",
    "        reshaped w as vector\n",
    "    '''\n",
    "    w = []\n",
    "    c = []\n",
    "    for i in range(len(engine.ids)):\n",
    "        w.append(engine[i]['km.get_coef()'])\n",
    "        c.append(engine[i]['km.Est_Resource()']) \n",
    "    # reshape w from matrix to vector\n",
    "    w = np.array(w)\n",
    "    c = np.array(c)\n",
    "    w = w.reshape(w.shape[0],1,-1)\n",
    "    return w,c"
   ]
  },
  {
   "cell_type": "code",
   "execution_count": 12,
   "metadata": {},
   "outputs": [],
   "source": [
    "#retrieve belta and grad to aggregator #Algorithm 2 - line 14\n",
    "def bg_from_eng(engine):\n",
    "    '''\n",
    "    Input:\n",
    "        parameter of gradient recieved from engines may be matrices\n",
    "    Output:\n",
    "        reshaped gradient as vector\n",
    "    '''\n",
    "    belta = []\n",
    "    grad = []\n",
    "    for i in range(len(engine.ids)):\n",
    "        belta.append(engine[i]['km.belta'])\n",
    "        grad.append(engine[i]['km.grad_t0']) \n",
    "    grad = np.array(grad)\n",
    "    belta = np.array(belta)\n",
    "    grad = grad.reshape(grad.shape[0],1,-1)\n",
    "    \n",
    "    return belta,grad"
   ]
  },
  {
   "cell_type": "code",
   "execution_count": 73,
   "metadata": {},
   "outputs": [],
   "source": [
    "#Algorithm 2 - line 8, global parameter updata according to (5)\n",
    "data_size = np.array([50,50,50])\n",
    "def global_update(w_local,data_size):\n",
    "    '''Aggregator parameter updating rules: mean'''\n",
    "    '''\n",
    "    Input: Matrix with shape = (# of engines, # of parameters)\n",
    "    Output: Matrix with shape = (# of engines, # of parameters)\n",
    "    '''\n",
    "    temp = 0\n",
    "    for i in range(len(w_local)):\n",
    "        temp = temp + w_local[i] * data_size[i]\n",
    "    return np.array(temp/data_size.sum())        "
   ]
  },
  {
   "cell_type": "code",
   "execution_count": 74,
   "metadata": {},
   "outputs": [],
   "source": [
    "#Algorithm 2 - line 15\n",
    "def belta_update(belta_local,data_size):\n",
    "    '''Aggregator belta updating rules: mean'''\n",
    "    '''\n",
    "    Input: Matrix with shape = (# of engines, # of parameters)\n",
    "    Output: Matrix with shape = (# of engines, # of parameters)\n",
    "    '''\n",
    "    temp = 0\n",
    "    for i in range(len(belta_local)):\n",
    "        temp = temp + np.array(belta_local[i]) * data_size[i]\n",
    "    return temp/data_size.sum()"
   ]
  },
  {
   "cell_type": "code",
   "execution_count": 15,
   "metadata": {},
   "outputs": [],
   "source": [
    "#Algorithm 2 - line 16\n",
    "def grad_update(grad_local,data_size):\n",
    "    temp = 0\n",
    "    for i in range(len(grad_local)):\n",
    "        temp = temp + np.array(grad_local[i]) * data_size[i]\n",
    "    return temp/data_size.sum()\n",
    "\n",
    "def delta_update(local_grad, grad_aggregator, data_size):\n",
    "    delta_local = []\n",
    "    local_grad = np.array(local_grad) \n",
    "    grad_aggregator = np.array(grad_aggregator)\n",
    "    for item in local_grad:\n",
    "        temp_delta = np.linalg.norm(item - grad_aggregator)\n",
    "        delta_local.append(temp_delta)\n",
    "    return belta_update(delta_local,data_size)"
   ]
  },
  {
   "cell_type": "code",
   "execution_count": 16,
   "metadata": {},
   "outputs": [],
   "source": [
    "def grad_kmeans(w, X, cluster_id):\n",
    "    shape = w.shape\n",
    "    grad = np.zeros(shape = shape)\n",
    "    for m in range(shape[0]):\n",
    "        for n in range(shape[1]):\n",
    "            grad[m,n] = w[m,n]*len(cluster_id[m]) - X[cluster_id[m],n].sum()\n",
    "    return grad"
   ]
  },
  {
   "cell_type": "code",
   "execution_count": 17,
   "metadata": {},
   "outputs": [],
   "source": [
    "from sklearn.metrics.pairwise import euclidean_distances\n",
    "def eu_distance(X, centroid):\n",
    "    return euclidean_distances(X,centroid)    "
   ]
  },
  {
   "cell_type": "code",
   "execution_count": 18,
   "metadata": {},
   "outputs": [],
   "source": [
    "def partition(distance_matrix):\n",
    "    cluster = [[] for i in range(distance_matrix.shape[1])]\n",
    "    for i in range(len(distance_matrix)):\n",
    "        cluster_label = np.argmin(distance_matrix[i])\n",
    "        cluster[cluster_label].append(i)\n",
    "    return cluster"
   ]
  },
  {
   "cell_type": "code",
   "execution_count": 19,
   "metadata": {},
   "outputs": [],
   "source": [
    "#send torque and w to engines from aggregator\n",
    "def snd_to_eng(w,torque,engine):\n",
    "    for i in range(len(engine.ids)):\n",
    "        engine[i]['w_aggregator'] = w\n",
    "        engine[i]['torque_aggregator'] = torque[i]"
   ]
  },
  {
   "cell_type": "code",
   "execution_count": 20,
   "metadata": {},
   "outputs": [],
   "source": [
    "#Algorithm 2 - line 17, binary search for new torque\n",
    "def G(torque, delta, belta, eta, phi):\n",
    "    h = delta* (pow((eta*belta + 1),torque)-1)/belta - eta*delta*torque\n",
    "    G = torque*(eta*(1-belta*eta/2)-phi*h/torque)\n",
    "    return G\n",
    "\n",
    "def binary_search(torque,delta, belta, gamma,phi,eta = 0.0001):\n",
    "    upper_bound = int(gamma * torque)\n",
    "    G_list = []\n",
    "    for i in range(upper_bound):\n",
    "        torque_try = i + 1\n",
    "        G_list.append(G(torque_try, delta, belta, eta, phi))\n",
    "    torque_star = np.argmax(np.array(G_list)) + 1\n",
    "    return torque_star, G_list"
   ]
  },
  {
   "cell_type": "code",
   "execution_count": 114,
   "metadata": {},
   "outputs": [],
   "source": [
    "import numpy as np\n",
    "import time\n",
    "class Kmeans:\n",
    "\n",
    "    def __init__(self):\n",
    "        self.t = 0\n",
    "        self.t_0 = 0\n",
    "        self.grad = 0\n",
    "        self.learning_rate = 0.001\n",
    "        self.torque = 0\n",
    "        self.belta = 0\n",
    "        self.resource = 0\n",
    "        self.grad_t0 = 0\n",
    "        self.test = 0\n",
    "        self.history = []\n",
    "        self.w = 0\n",
    "        self.w_hat = 0\n",
    "        self.w_t0 = 0\n",
    "    def Rec_from_Eng(self, w_global, torque_global):\n",
    "        '''\n",
    "        w_global: parameter recieved from aggregator, has a shape of (k, features)\n",
    "        \n",
    "        '''\n",
    "        self.w_t0 = w_global\n",
    "        self.w_hat = w_global\n",
    "        self.torque = torque_global\n",
    "    def Snd_to_Agg(self):\n",
    "        if self.t_0 > 0:\n",
    "            return w,self.resource, self.belta, self.grad_t0\n",
    "        else:\n",
    "            return w,self.resource\n",
    "    \n",
    "    def Est_Resource(self):\n",
    "        return self.resource\n",
    "\n",
    "    def get_coef(self):\n",
    "        return self.w\n",
    "    \n",
    "    def set_coef(self, w_global):\n",
    "        self.w = w_global\n",
    "        \n",
    "    def Est_Belta(self ,X):\n",
    "        #estimate clusters given global parameters\n",
    "        distance_matrix = euclidean_distances(X, self.w_hat)\n",
    "        cluster_id = partition(distance_matrix)\n",
    "        grad_global_parameter = grad_kmeans(self.w_hat, X, cluster_id)\n",
    "        self.grad_t0 = grad_global_parameter\n",
    "        self.belta = np.linalg.norm(self.grad - grad_global_parameter)/np.linalg.norm(self.w - self.w_hat)\n",
    "        \n",
    "    def time_record(self):\n",
    "        self.t_0 = self.t\n",
    "        \n",
    "    def fit(self, X):\n",
    "        \n",
    "        self.w = self.w_hat #updata local w by aggregator \n",
    "        \n",
    "        count = 0\n",
    "        tic = time.time()\n",
    "        \n",
    "        for i in range(self.torque): \n",
    "            self.t += 1\n",
    "            distance_matrix = euclidean_distances(X, self.w)\n",
    "            cluster_id = partition(distance_matrix)\n",
    "            grad = grad_kmeans(self.w, X, cluster_id)\n",
    "            self.w = self.w - self.learning_rate * grad\n",
    "            \n",
    "            count += 1\n",
    "            if count < self.torque:\n",
    "                self.w_hat = self.w\n",
    "            elif count == self.torque:\n",
    "                self.grad = grad  #self.grad save the gradient(t) when t has a global aggregation\n",
    "            \n",
    "            \n",
    "        toc = time.time()\n",
    "        self.resource = toc - tic\n",
    "        \n",
    "        return self\n",
    "    "
   ]
  },
  {
   "cell_type": "code",
   "execution_count": 121,
   "metadata": {},
   "outputs": [],
   "source": [
    "km = Kmeans()\n",
    "dview.push(dict(Kmeans = Kmeans,partition = partition,grad_kmeans = grad_kmeans))\n",
    "#sending LinearRegression object to engines\n",
    "dview['km'] = km"
   ]
  },
  {
   "cell_type": "code",
   "execution_count": 145,
   "metadata": {},
   "outputs": [],
   "source": [
    "import time \n",
    "t = 0\n",
    "s = 0\n",
    "b = 0 # aggregator consumption\n",
    "R = 5\n",
    "gamma = 10\n",
    "phi = 0.02\n",
    "w_init = random_init_w(3,train)\n",
    "w_aggregator = w_init\n",
    "torque_aggregator = [1,1,1]\n",
    "stop = False\n",
    "loss_hist = []"
   ]
  },
  {
   "cell_type": "code",
   "execution_count": 123,
   "metadata": {},
   "outputs": [
    {
     "name": "stdout",
     "output_type": "stream",
     "text": [
      "New torque is: 1\n",
      "New torque is: 1\n",
      "New torque is: 1\n",
      "New torque is: 1\n",
      "New torque is: 1\n",
      "New torque is: 1\n",
      "New torque is: 1\n",
      "New torque is: 1\n",
      "New torque is: 1\n",
      "New torque is: 1\n",
      "New torque is: 1\n",
      "New torque is: 1\n",
      "New torque is: 1\n"
     ]
    }
   ],
   "source": [
    "while True:\n",
    "    tic = time.time()\n",
    "    snd_to_eng(w_aggregator,torque_aggregator,c)\n",
    "    t_0 = t\n",
    "    t = t + torque_aggregator[0]\n",
    "    dview.execute(\"\"\"\n",
    "from sklearn.metrics.pairwise import euclidean_distances\n",
    "import numpy as np\n",
    "import time    \n",
    "km.Rec_from_Eng(w_aggregator, torque_aggregator)\n",
    "km.time_record()\n",
    "if km.t > 0:\n",
    "    km.Est_Belta(X)\n",
    "km.fit(X)\n",
    "    \"\"\")\n",
    "    \n",
    "    \n",
    "    w_local, c_local = wc_from_eng(c)\n",
    "    #calculate local consumption per iteration\n",
    "    c_per = np.array(c_local)/torque_aggregator[0]\n",
    "    w_aggregator = global_update(w_local, data_size)\n",
    "    w_aggregator = w_aggregator.reshape(w_1_origin.shape)\n",
    "    if stop:\n",
    "        w_final = w_aggregator\n",
    "        break\n",
    "    #c_local.sum() equal to c*t\n",
    "    s = s + np.array(c_local).sum()+ b\n",
    "    \n",
    "    if t_0 > 0:\n",
    "        belta_local, grad_local = bg_from_eng(c)\n",
    "        belta_aggregator = belta_update(belta_local,data_size)\n",
    "        grad_aggregator = grad_update(grad_local,data_size)\n",
    "        delta_aggregator = delta_update(grad_local, grad_aggregator, data_size)\n",
    "        torque_update, G_list = binary_search(torque_aggregator[0], delta_aggregator, belta_aggregator, gamma, phi)\n",
    "        torque_aggregator = [torque_update for i in range(len(c.ids))]\n",
    "        print('New torque is:',torque_aggregator[0])\n",
    "    \n",
    "    toc = time.time()\n",
    "    b = toc - tic\n",
    "    temp = s + torque_aggregator[0]*c_per.sum() + b\n",
    "    if temp >= R:\n",
    "        torque_max = (R-b-s)/c_per.sum()\n",
    "        G_list = np.array(G_list)\n",
    "        G_min = G_list.min()\n",
    "        for i, item in enumerate(G_list):\n",
    "            if item >= torque_max:\n",
    "                itme = G_min\n",
    "        torque_updata = np.argmax(G_list) + 1\n",
    "        torque_aggregator = [torque_update for i in range(len(c.ids))]\n",
    "        stop = True \n",
    "    "
   ]
  },
  {
   "cell_type": "code",
   "execution_count": 118,
   "metadata": {},
   "outputs": [
    {
     "data": {
      "text/plain": [
       "array([[6.11747488, 2.99056493, 1.83303575, 1.01004811],\n",
       "       [6.82024913, 3.22791872, 3.88144444, 1.80048304],\n",
       "       [5.9986321 , 3.14435461, 3.60250955, 1.04922358]])"
      ]
     },
     "execution_count": 118,
     "metadata": {},
     "output_type": "execute_result"
    }
   ],
   "source": [
    "w_aggregator.reshape(w_1_origin.shape)"
   ]
  },
  {
   "cell_type": "code",
   "execution_count": 124,
   "metadata": {},
   "outputs": [
    {
     "data": {
      "text/plain": [
       "array([[5.54803849, 3.20955061, 1.6439695 , 0.6175825 ],\n",
       "       [6.65052297, 3.06145011, 4.78259964, 1.83980675],\n",
       "       [5.85005757, 2.97163109, 3.73637196, 1.11325422]])"
      ]
     },
     "execution_count": 124,
     "metadata": {},
     "output_type": "execute_result"
    }
   ],
   "source": [
    "w_final"
   ]
  },
  {
   "cell_type": "code",
   "execution_count": 120,
   "metadata": {},
   "outputs": [
    {
     "data": {
      "text/plain": [
       "[8172596372655776.0, 8172596372655776.0, 8172596372655776.0]"
      ]
     },
     "execution_count": 120,
     "metadata": {},
     "output_type": "execute_result"
    }
   ],
   "source": [
    "dview['km.belta']"
   ]
  },
  {
   "cell_type": "code",
   "execution_count": 36,
   "metadata": {},
   "outputs": [
    {
     "data": {
      "text/plain": [
       "<AsyncResult: execute>"
      ]
     },
     "execution_count": 36,
     "metadata": {},
     "output_type": "execute_result"
    }
   ],
   "source": [
    "dview.execute('''\n",
    "import numpy as np\n",
    "km.fit(X)\n",
    "\n",
    "''')"
   ]
  },
  {
   "cell_type": "code",
   "execution_count": 127,
   "metadata": {},
   "outputs": [
    {
     "data": {
      "text/plain": [
       "array([[5.23437157, 3.20839712, 5.93536268, 0.74439649],\n",
       "       [5.66023644, 3.23406749, 4.96111899, 0.42790574],\n",
       "       [5.04225614, 2.8031247 , 1.76407928, 0.4692056 ]])"
      ]
     },
     "execution_count": 127,
     "metadata": {},
     "output_type": "execute_result"
    }
   ],
   "source": [
    "w_1_origin"
   ]
  },
  {
   "cell_type": "code",
   "execution_count": null,
   "metadata": {},
   "outputs": [],
   "source": []
  },
  {
   "cell_type": "code",
   "execution_count": 24,
   "metadata": {},
   "outputs": [],
   "source": [
    "from scipy import stats"
   ]
  },
  {
   "cell_type": "code",
   "execution_count": 25,
   "metadata": {},
   "outputs": [],
   "source": [
    "a = stats.describe(train)"
   ]
  },
  {
   "cell_type": "code",
   "execution_count": 26,
   "metadata": {},
   "outputs": [],
   "source": [
    "w_1_origin = np.random.normal(loc = a[2], scale = a[3], size = (3,4))"
   ]
  },
  {
   "cell_type": "code",
   "execution_count": 72,
   "metadata": {},
   "outputs": [
    {
     "data": {
      "text/plain": [
       "(3, 4)"
      ]
     },
     "execution_count": 72,
     "metadata": {},
     "output_type": "execute_result"
    }
   ],
   "source": [
    "w_1_origin.shape"
   ]
  },
  {
   "cell_type": "code",
   "execution_count": 63,
   "metadata": {},
   "outputs": [],
   "source": [
    "aaa = np.arange(10)\n",
    "mean = 0\n",
    "for i in range(10000):\n",
    "    grad = (np.array([mean for i in range(10)])-aaa).sum()\n",
    "    mean = mean - 0.001*grad\n"
   ]
  },
  {
   "cell_type": "code",
   "execution_count": 136,
   "metadata": {},
   "outputs": [],
   "source": [
    "s = np.array([925,725,725,625])"
   ]
  },
  {
   "cell_type": "code",
   "execution_count": 138,
   "metadata": {},
   "outputs": [],
   "source": [
    "b = []\n",
    "for i in range(len(s)):\n",
    "    b.append(844.26*s[i]/s.sum())"
   ]
  },
  {
   "cell_type": "code",
   "execution_count": 139,
   "metadata": {},
   "outputs": [
    {
     "data": {
      "text/plain": [
       "[260.3135, 204.0295, 204.0295, 175.8875]"
      ]
     },
     "execution_count": 139,
     "metadata": {},
     "output_type": "execute_result"
    }
   ],
   "source": [
    "b"
   ]
  },
  {
   "cell_type": "code",
   "execution_count": 141,
   "metadata": {},
   "outputs": [
    {
     "data": {
      "text/plain": [
       "611"
      ]
     },
     "execution_count": 141,
     "metadata": {},
     "output_type": "execute_result"
    }
   ],
   "source": [
    "150+201+260\n"
   ]
  },
  {
   "cell_type": "code",
   "execution_count": 142,
   "metadata": {},
   "outputs": [
    {
     "data": {
      "text/plain": [
       "889"
      ]
     },
     "execution_count": 142,
     "metadata": {},
     "output_type": "execute_result"
    }
   ],
   "source": [
    "1500-611"
   ]
  },
  {
   "cell_type": "code",
   "execution_count": 143,
   "metadata": {},
   "outputs": [
    {
     "data": {
      "text/plain": [
       "125.0"
      ]
     },
     "execution_count": 143,
     "metadata": {},
     "output_type": "execute_result"
    }
   ],
   "source": [
    "500/4"
   ]
  },
  {
   "cell_type": "code",
   "execution_count": 146,
   "metadata": {},
   "outputs": [
    {
     "data": {
      "text/plain": [
       "array([[7.25792917, 2.83116628, 0.44922719, 1.25068524],\n",
       "       [5.98822726, 2.87296436, 2.55375724, 1.43567045],\n",
       "       [6.49868252, 3.06840254, 8.38735151, 0.03575358]])"
      ]
     },
     "execution_count": 146,
     "metadata": {},
     "output_type": "execute_result"
    }
   ],
   "source": [
    "w_init"
   ]
  },
  {
   "cell_type": "code",
   "execution_count": 145,
   "metadata": {},
   "outputs": [
    {
     "data": {
      "text/plain": [
       "965"
      ]
     },
     "execution_count": 145,
     "metadata": {},
     "output_type": "execute_result"
    }
   ],
   "source": [
    "889+76"
   ]
  },
  {
   "cell_type": "code",
   "execution_count": 146,
   "metadata": {},
   "outputs": [
    {
     "data": {
      "text/plain": [
       "451"
      ]
     },
     "execution_count": 146,
     "metadata": {},
     "output_type": "execute_result"
    }
   ],
   "source": [
    "527-76"
   ]
  },
  {
   "cell_type": "code",
   "execution_count": null,
   "metadata": {},
   "outputs": [],
   "source": []
  }
 ],
 "metadata": {
  "kernelspec": {
   "display_name": "Python 3",
   "language": "python",
   "name": "python3"
  },
  "language_info": {
   "codemirror_mode": {
    "name": "ipython",
    "version": 3
   },
   "file_extension": ".py",
   "mimetype": "text/x-python",
   "name": "python",
   "nbconvert_exporter": "python",
   "pygments_lexer": "ipython3",
   "version": "3.6.4"
  }
 },
 "nbformat": 4,
 "nbformat_minor": 2
}
