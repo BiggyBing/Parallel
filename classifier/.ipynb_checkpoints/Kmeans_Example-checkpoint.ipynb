{
 "cells": [
  {
   "cell_type": "code",
   "execution_count": 4,
   "metadata": {},
   "outputs": [],
   "source": [
    "import time\n",
    "import numpy as np\n",
    "from scipy import stats\n",
    "import ipyparallel as ipp\n",
    "import tensorflow as tf\n",
    "from kmeans import Kmeans\n",
    "from AggregatorFunc import snd_to_eng, wc_from_eng, global_update, bg_from_eng, belta_update, grad_update, delta_update, binary_search"
   ]
  },
  {
   "cell_type": "code",
   "execution_count": 5,
   "metadata": {},
   "outputs": [],
   "source": [
    "from sklearn import datasets\n",
    "iris = datasets.load_iris()\n",
    "train = iris.data\n",
    "target = iris.target"
   ]
  },
  {
   "cell_type": "code",
   "execution_count": 7,
   "metadata": {},
   "outputs": [],
   "source": [
    "c = ipp.Client()\n",
    "dview = c[:]"
   ]
  },
  {
   "cell_type": "code",
   "execution_count": 8,
   "metadata": {},
   "outputs": [
    {
     "name": "stdout",
     "output_type": "stream",
     "text": [
      "['D:\\\\GitHub\\\\Parallel\\\\classifier', 'D:\\\\GitHub\\\\Parallel\\\\classifier', 'D:\\\\GitHub\\\\Parallel\\\\classifier']\n"
     ]
    }
   ],
   "source": [
    "import os\n",
    "dview.map(os.chdir, ['D:/GitHub/Parallel/classifier']*3)\n",
    "print(dview.apply_sync(os.getcwd))"
   ]
  },
  {
   "cell_type": "code",
   "execution_count": 9,
   "metadata": {},
   "outputs": [],
   "source": [
    "#create a directview\n",
    "c[0]['X'] = train[:50]\n",
    "c[1]['X'] = train[50:100]\n",
    "c[2]['X'] = train[100:150]\n",
    "\n",
    "c[0]['y'] = target[:50]\n",
    "c[1]['y'] = target[50:100]\n",
    "c[2]['y'] = target[100:150]"
   ]
  },
  {
   "cell_type": "code",
   "execution_count": 10,
   "metadata": {},
   "outputs": [],
   "source": [
    "def random_init_w(k_cluster,X):\n",
    "    describe = stats.describe(X)\n",
    "    w = np.random.normal(loc = describe[2], scale =describe[3], size = (k_cluster,len(X[0])))    \n",
    "    return w"
   ]
  },
  {
   "cell_type": "code",
   "execution_count": 11,
   "metadata": {},
   "outputs": [],
   "source": [
    "cluster_number = 3\n",
    "feature_number = train.shape[1]"
   ]
  },
  {
   "cell_type": "code",
   "execution_count": 12,
   "metadata": {},
   "outputs": [],
   "source": [
    "t = 0\n",
    "s = 0\n",
    "b = 0 # aggregator consumption\n",
    "R = 10\n",
    "\n",
    "data_size = np.array([50,50,50])\n",
    "gamma = 10\n",
    "phi = 0.2\n",
    "w_aggregator = random_init_w(3,train)\n",
    "torque_aggregator = 1\n",
    "stop = False"
   ]
  },
  {
   "cell_type": "code",
   "execution_count": 13,
   "metadata": {},
   "outputs": [],
   "source": [
    "km = Kmeans(cluster_num = cluster_number)\n",
    "dview.push(dict(Kmeans = Kmeans))\n",
    "#sending LinearRegression object to engines\n",
    "dview['km'] = km"
   ]
  },
  {
   "cell_type": "code",
   "execution_count": 14,
   "metadata": {},
   "outputs": [
    {
     "name": "stderr",
     "output_type": "stream",
     "text": [
      "D:\\GitHub\\Parallel\\classifier\\AggregatorFunc.py:179: RuntimeWarning: invalid value encountered in double_scalars\n",
      "  h = delta* (pow((eta*belta + 1),torque)-1)/belta - eta*delta*torque\n"
     ]
    },
    {
     "name": "stdout",
     "output_type": "stream",
     "text": [
      "New torque is: 1\n",
      "New torque is: 1\n",
      "New torque is: 1\n",
      "New torque is: 1\n",
      "New torque is: 1\n",
      "New torque is: 1\n",
      "got unknown result: 30a2bbd8-8ea86881ee167fa0b69c4ef2\n",
      "New torque is: 1\n",
      "New torque is: 1\n",
      "got unknown result: f636fa9f-7711fb001cd66cc5f6b60e23\n",
      "New torque is: 1\n"
     ]
    }
   ],
   "source": [
    "while True:\n",
    "        tic = time.time()\n",
    "        w_aggregator = w_aggregator.reshape(cluster_number,feature_number)\n",
    "        snd_to_eng(w_aggregator,torque_aggregator,c)\n",
    "        t_0 = t\n",
    "        t = t + torque_aggregator\n",
    "        dview.execute(\"\"\"\n",
    "import numpy as np\n",
    "import time  \n",
    "from sklearn.metrics.pairwise import euclidean_distances\n",
    "km.Rec_from_Agg(w_aggregator, torque_aggregator)\n",
    "km.time_record()\n",
    "if km.t > 0:\n",
    "    km.Est_Belta(X)\n",
    "km.fit(X,y)\n",
    "        \"\"\")\n",
    "        \n",
    "        \n",
    "        w_local, c_local = wc_from_eng(c,'km')\n",
    "        #calculate local consumption per iteration\n",
    "        c_per = np.array(c_local)/torque_aggregator\n",
    "        w_aggregator = global_update(w_local, data_size)\n",
    "        if stop:\n",
    "            w_final = w_aggregator.reshape(cluster_number,feature_number)\n",
    "            break\n",
    "        #c_local.sum() equal to c*t\n",
    "        #s = s + np.array(c_local).sum()+ b\n",
    "        s = s + np.array(c_local).sum()+ 5*np.array(c_local).sum()\n",
    "        \n",
    "        if t_0 > 0:\n",
    "            belta_local, grad_local = bg_from_eng(c,'km')\n",
    "            belta_aggregator = belta_update(belta_local,data_size)\n",
    "            grad_aggregator = grad_update(grad_local,data_size)\n",
    "            delta_aggregator = delta_update(grad_local, grad_aggregator, data_size)\n",
    "            torque_aggregator, G_list = binary_search(torque_aggregator, delta_aggregator, belta_aggregator, gamma, phi)\n",
    "            print('New torque is:',torque_aggregator)\n",
    "        \n",
    "        toc = time.time()\n",
    "        b = toc - tic\n",
    "        temp = s + torque_aggregator*c_per.sum() + b\n",
    "        if temp >= R:\n",
    "            torque_max = (R-b-s)/c_per.sum()\n",
    "            G_list = np.array(G_list)\n",
    "            G_min = G_list.min()\n",
    "            for i, item in enumerate(G_list):\n",
    "                if item >= torque_max:\n",
    "                    itme = G_min\n",
    "            torque_aggregator = np.argmax(G_list) + 1\n",
    "            stop = True "
   ]
  },
  {
   "cell_type": "code",
   "execution_count": 15,
   "metadata": {},
   "outputs": [
    {
     "data": {
      "text/plain": [
       "array([[ 5.89732409,  3.02189579,  2.55976898,  1.90917871],\n",
       "       [ 5.45033144,  3.08237133,  5.47465109,  1.58563296],\n",
       "       [ 5.23792976,  2.77056462, -3.28405904,  1.58761075]])"
      ]
     },
     "execution_count": 15,
     "metadata": {},
     "output_type": "execute_result"
    }
   ],
   "source": [
    "w_final"
   ]
  },
  {
   "cell_type": "code",
   "execution_count": 16,
   "metadata": {},
   "outputs": [],
   "source": [
    "from sklearn.metrics.pairwise import euclidean_distances\n",
    "a = euclidean_distances(train,w_final)"
   ]
  },
  {
   "cell_type": "code",
   "execution_count": 17,
   "metadata": {},
   "outputs": [],
   "source": [
    "b = a.argmin(axis = 1)"
   ]
  },
  {
   "cell_type": "code",
   "execution_count": 18,
   "metadata": {},
   "outputs": [
    {
     "data": {
      "text/plain": [
       "array([0, 0, 0, 0, 0, 0, 0, 0, 0, 0, 0, 0, 0, 0, 0, 0, 0, 0, 0, 0, 0, 0,\n",
       "       0, 0, 0, 0, 0, 0, 0, 0, 0, 0, 0, 0, 0, 0, 0, 0, 0, 0, 0, 0, 0, 0,\n",
       "       0, 0, 0, 0, 0, 0, 1, 1, 1, 1, 1, 1, 1, 0, 1, 0, 0, 1, 0, 1, 0, 1,\n",
       "       1, 1, 1, 0, 1, 0, 1, 1, 1, 1, 1, 1, 1, 0, 0, 0, 0, 1, 1, 1, 1, 1,\n",
       "       1, 1, 1, 1, 1, 0, 1, 1, 1, 1, 0, 1, 1, 1, 1, 1, 1, 1, 1, 1, 1, 1,\n",
       "       1, 1, 1, 1, 1, 1, 1, 1, 1, 1, 1, 1, 1, 1, 1, 1, 1, 1, 1, 1, 1, 1,\n",
       "       1, 1, 1, 1, 1, 1, 1, 1, 1, 1, 1, 1, 1, 1, 1, 1, 1, 1], dtype=int64)"
      ]
     },
     "execution_count": 18,
     "metadata": {},
     "output_type": "execute_result"
    }
   ],
   "source": [
    "b"
   ]
  },
  {
   "cell_type": "code",
   "execution_count": null,
   "metadata": {},
   "outputs": [],
   "source": []
  }
 ],
 "metadata": {
  "kernelspec": {
   "display_name": "Python 3",
   "language": "python",
   "name": "python3"
  },
  "language_info": {
   "codemirror_mode": {
    "name": "ipython",
    "version": 3
   },
   "file_extension": ".py",
   "mimetype": "text/x-python",
   "name": "python",
   "nbconvert_exporter": "python",
   "pygments_lexer": "ipython3",
   "version": "3.6.5"
  }
 },
 "nbformat": 4,
 "nbformat_minor": 2
}
