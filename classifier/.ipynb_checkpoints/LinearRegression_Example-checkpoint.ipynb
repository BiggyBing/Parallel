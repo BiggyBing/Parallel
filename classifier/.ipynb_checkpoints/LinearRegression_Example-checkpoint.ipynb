{
 "cells": [
  {
   "cell_type": "code",
   "execution_count": 4,
   "metadata": {},
   "outputs": [],
   "source": [
    "import numpy as np\n",
    "import ipyparallel as ipp\n",
    "import time\n",
    "import tensorflow as tf\n",
    "from AggregatorFunc import snd_to_eng, wc_from_eng, global_update, bg_from_eng, belta_update, grad_update, delta_update, binary_search\n",
    "from linearRegression import LinearRegression\n",
    "from parallel_base import Parallel_base"
   ]
  },
  {
   "cell_type": "code",
   "execution_count": 5,
   "metadata": {},
   "outputs": [],
   "source": [
    "from sklearn import datasets\n",
    "iris = datasets.load_iris()\n",
    "train = iris.data\n",
    "target = iris.target"
   ]
  },
  {
   "cell_type": "code",
   "execution_count": 8,
   "metadata": {},
   "outputs": [],
   "source": [
    "c = ipp.Client()\n",
    "dview = c[:]"
   ]
  },
  {
   "cell_type": "code",
   "execution_count": 9,
   "metadata": {},
   "outputs": [
    {
     "name": "stdout",
     "output_type": "stream",
     "text": [
      "['D:\\\\GitHub\\\\Parallel\\\\classifier', 'D:\\\\GitHub\\\\Parallel\\\\classifier', 'D:\\\\GitHub\\\\Parallel\\\\classifier']\n"
     ]
    }
   ],
   "source": [
    "import os\n",
    "dview.map(os.chdir, ['D:/GitHub/Parallel/classifier']*3)\n",
    "print(dview.apply_sync(os.getcwd))"
   ]
  },
  {
   "cell_type": "code",
   "execution_count": 10,
   "metadata": {},
   "outputs": [],
   "source": [
    "#create a directview\n",
    "c[0]['X'] = train[:50]\n",
    "c[1]['X'] = train[50:100]\n",
    "c[2]['X'] = train[100:150]\n",
    "\n",
    "c[0]['y'] = target[:50]\n",
    "c[1]['y'] = target[50:100]\n",
    "c[2]['y'] = target[100:150]"
   ]
  },
  {
   "cell_type": "code",
   "execution_count": 11,
   "metadata": {},
   "outputs": [],
   "source": [
    "lr = LinearRegression()\n",
    "dview.push(dict(LinearRegression = LinearRegression, Parallel_base = Parallel_base))\n",
    "#sending LinearRegression object to engines\n",
    "dview['lr'] = lr"
   ]
  },
  {
   "cell_type": "code",
   "execution_count": 12,
   "metadata": {},
   "outputs": [
    {
     "data": {
      "text/plain": [
       "<linearRegression.LinearRegression at 0x1e771c2c9e8>"
      ]
     },
     "execution_count": 12,
     "metadata": {},
     "output_type": "execute_result"
    }
   ],
   "source": [
    "lr"
   ]
  },
  {
   "cell_type": "code",
   "execution_count": 13,
   "metadata": {},
   "outputs": [
    {
     "data": {
      "text/plain": [
       "[<linearRegression.LinearRegression at 0x1e771c6cf60>,\n",
       " <linearRegression.LinearRegression at 0x1e771c6cba8>,\n",
       " <linearRegression.LinearRegression at 0x1e771c720f0>]"
      ]
     },
     "execution_count": 13,
     "metadata": {},
     "output_type": "execute_result"
    }
   ],
   "source": [
    "dview['lr']"
   ]
  },
  {
   "cell_type": "code",
   "execution_count": 14,
   "metadata": {},
   "outputs": [],
   "source": [
    "t = 0\n",
    "s = 0\n",
    "b = 0 # aggregator consumption\n",
    "R = 5\n",
    "data_size = np.array([50,50,50])\n",
    "gamma = 10\n",
    "phi = 0.2\n",
    "w_aggregator = np.zeros(4)\n",
    "torque_aggregator = 1\n",
    "stop = False"
   ]
  },
  {
   "cell_type": "code",
   "execution_count": 15,
   "metadata": {},
   "outputs": [
    {
     "name": "stdout",
     "output_type": "stream",
     "text": [
      "New torque is: 1\n",
      "New torque is: 1\n",
      "New torque is: 1\n",
      "New torque is: 1\n",
      "New torque is: 1\n",
      "New torque is: 1\n",
      "New torque is: 1\n",
      "New torque is: 1\n",
      "New torque is: 1\n",
      "New torque is: 1\n",
      "New torque is: 1\n",
      "New torque is: 2\n",
      "New torque is: 2\n",
      "New torque is: 1\n",
      "New torque is: 1\n"
     ]
    }
   ],
   "source": [
    "while True:\n",
    "        tic = time.time()\n",
    "        snd_to_eng(w_aggregator,torque_aggregator,c)\n",
    "        t_0 = t\n",
    "        t = t + torque_aggregator\n",
    "        dview.execute(\"\"\"\n",
    "import numpy as np\n",
    "import time    \n",
    "lr.Rec_from_Agg(w_aggregator, torque_aggregator)\n",
    "lr.time_record()\n",
    "if lr.t > 0:\n",
    "    lr.Est_Belta(X,y)\n",
    "lr.fit(X,y)\n",
    "        \"\"\")\n",
    "        \n",
    "        \n",
    "        w_local, c_local = wc_from_eng(c,'lr')\n",
    "        #calculate local consumption per iteration\n",
    "        c_per = np.array(c_local)/torque_aggregator\n",
    "        w_aggregator = global_update(w_local, data_size)\n",
    "        if stop:\n",
    "            w_final = w_aggregator\n",
    "            break\n",
    "        #c_local.sum() equal to c*t\n",
    "        s = s + np.array(c_local).sum()+ b\n",
    "        \n",
    "        if t_0 > 0:\n",
    "            belta_local, grad_local = bg_from_eng(c,'lr')\n",
    "            belta_aggregator = belta_update(belta_local,data_size)\n",
    "            grad_aggregator = grad_update(grad_local,data_size)\n",
    "            delta_aggregator = delta_update(grad_local, grad_aggregator, data_size)\n",
    "            torque_aggregator, G_list = binary_search(torque_aggregator, delta_aggregator, belta_aggregator, gamma, phi)\n",
    "            print('New torque is:',torque_aggregator)\n",
    "        \n",
    "        toc = time.time()\n",
    "        b = toc - tic\n",
    "        temp = s + torque_aggregator*c_per.sum() + b\n",
    "        if temp >= R:\n",
    "            torque_max = (R-b-s)/c_per.sum()\n",
    "            G_list = np.array(G_list)\n",
    "            G_min = G_list.min()\n",
    "            for i, item in enumerate(G_list):\n",
    "                if item >= torque_max:\n",
    "                    itme = G_min\n",
    "            torque_aggregator = np.argmax(G_list) + 1\n",
    "            stop = True "
   ]
  },
  {
   "cell_type": "code",
   "execution_count": 16,
   "metadata": {},
   "outputs": [],
   "source": [
    "a = dview['lr.w']"
   ]
  },
  {
   "cell_type": "code",
   "execution_count": 18,
   "metadata": {},
   "outputs": [
    {
     "data": {
      "text/plain": [
       "array([0.0853096 , 0.01671018, 0.12320617, 0.05034489])"
      ]
     },
     "execution_count": 18,
     "metadata": {},
     "output_type": "execute_result"
    }
   ],
   "source": [
    "w_final"
   ]
  },
  {
   "cell_type": "code",
   "execution_count": null,
   "metadata": {},
   "outputs": [],
   "source": []
  }
 ],
 "metadata": {
  "kernelspec": {
   "display_name": "Python 3",
   "language": "python",
   "name": "python3"
  },
  "language_info": {
   "codemirror_mode": {
    "name": "ipython",
    "version": 3
   },
   "file_extension": ".py",
   "mimetype": "text/x-python",
   "name": "python",
   "nbconvert_exporter": "python",
   "pygments_lexer": "ipython3",
   "version": "3.6.5"
  }
 },
 "nbformat": 4,
 "nbformat_minor": 2
}
