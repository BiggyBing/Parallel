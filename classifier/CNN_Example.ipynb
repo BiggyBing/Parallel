{
 "cells": [
  {
   "cell_type": "code",
   "execution_count": 18,
   "metadata": {},
   "outputs": [],
   "source": [
    "import time \n",
    "import numpy as np\n",
    "import ipyparallel as ipp\n",
    "from cnn import CNN\n",
    "import tensorflow as tf\n",
    "from AggregatorFunc import snd_to_eng, wc_from_eng, global_update, bg_from_eng, belta_update, grad_update, delta_update, binary_search\n",
    "from CnnFunc import cnn_parameter_initial,batch_gradient_collector,batch_parameter_collector,create_new_conv_layer,AdamOptimizer_Bing\n",
    "from CnnFunc import conv_output_size,flatten_matrix,wrangle_matrix"
   ]
  },
  {
   "cell_type": "code",
   "execution_count": 19,
   "metadata": {},
   "outputs": [],
   "source": [
    "c = ipp.Client()"
   ]
  },
  {
   "cell_type": "code",
   "execution_count": 20,
   "metadata": {},
   "outputs": [],
   "source": [
    "dview = c[:]"
   ]
  },
  {
   "cell_type": "code",
   "execution_count": 21,
   "metadata": {},
   "outputs": [
    {
     "data": {
      "text/plain": [
       "[0, 1]"
      ]
     },
     "execution_count": 21,
     "metadata": {},
     "output_type": "execute_result"
    }
   ],
   "source": [
    "c.ids"
   ]
  },
  {
   "cell_type": "code",
   "execution_count": 22,
   "metadata": {
    "scrolled": true
   },
   "outputs": [
    {
     "name": "stdout",
     "output_type": "stream",
     "text": [
      "['D:\\\\GitHub\\\\Parallel\\\\classifier', 'D:\\\\GitHub\\\\Parallel\\\\classifier']\n"
     ]
    }
   ],
   "source": [
    "import os\n",
    "dview.map(os.chdir, ['D:/GitHub/Parallel/classifier']*len(c.ids))\n",
    "print(dview.apply_sync(os.getcwd))"
   ]
  },
  {
   "cell_type": "code",
   "execution_count": 23,
   "metadata": {},
   "outputs": [
    {
     "name": "stdout",
     "output_type": "stream",
     "text": [
      "Extracting MNIST_data/train-images-idx3-ubyte.gz\n",
      "Extracting MNIST_data/train-labels-idx1-ubyte.gz\n",
      "Extracting MNIST_data/t10k-images-idx3-ubyte.gz\n",
      "Extracting MNIST_data/t10k-labels-idx1-ubyte.gz\n"
     ]
    }
   ],
   "source": [
    "from tensorflow.examples.tutorials.mnist import input_data\n",
    "mnist = input_data.read_data_sets(\"MNIST_data/\", one_hot=True)"
   ]
  },
  {
   "cell_type": "code",
   "execution_count": 24,
   "metadata": {},
   "outputs": [
    {
     "data": {
      "text/plain": [
       "tensorflow.contrib.learn.python.learn.datasets.base.Datasets"
      ]
     },
     "execution_count": 24,
     "metadata": {},
     "output_type": "execute_result"
    }
   ],
   "source": [
    "type(mnist)"
   ]
  },
  {
   "cell_type": "code",
   "execution_count": 26,
   "metadata": {},
   "outputs": [],
   "source": [
    "#sending date to engines\n",
    "for i in range(len(c.ids)):\n",
    "    c[i]['mnist'] = mnist"
   ]
  },
  {
   "cell_type": "code",
   "execution_count": 27,
   "metadata": {},
   "outputs": [],
   "source": [
    "t = 0\n",
    "s = 0\n",
    "b = 0 # aggregator consumption\n",
    "R = 2400\n",
    "\n",
    "# Python optimisation variables\n",
    "batch_size = 50\n",
    "layer_size = [[1, 32, [5, 5], [2, 2]],\n",
    "                [32, 64, [5, 5], [2, 2]],\n",
    "                1000,\n",
    "                10]\n",
    "\n",
    "data_size = np.array([15000,15000])\n",
    "gamma = 10\n",
    "phi = 0.2\n",
    "torque_aggregator = 1\n",
    "stop = False"
   ]
  },
  {
   "cell_type": "code",
   "execution_count": 32,
   "metadata": {},
   "outputs": [],
   "source": [
    "# Adjustment needed when change data\n",
    "parameter_length_list = [32*5*5*1,32,32*64*5*5,64,1000*7*7*64,1000,1000*10,10]\n",
    "w_aggregator = cnn_parameter_initial(parameter_length_list)"
   ]
  },
  {
   "cell_type": "code",
   "execution_count": 29,
   "metadata": {},
   "outputs": [],
   "source": [
    "cnn = CNN(layer_size)\n",
    "dview.push(dict(CNN = CNN))\n",
    "#sending LinearRegression object to engines\n",
    "dview['cnn'] = cnn"
   ]
  },
  {
   "cell_type": "code",
   "execution_count": null,
   "metadata": {},
   "outputs": [],
   "source": [
    "while True:\n",
    "        tic = time.time()\n",
    "        snd_to_eng(w_aggregator,torque_aggregator,c)\n",
    "        t_0 = t\n",
    "        t = t + torque_aggregator\n",
    "        dview.execute(\"\"\"\n",
    "import numpy as np\n",
    "import time    \n",
    "cnn.Rec_from_Agg(w_aggregator, torque_aggregator)\n",
    "cnn.time_record()\n",
    "if cnn.t > 0:\n",
    "    cnn.Est_Belta(mnist)\n",
    "cnn.fit(mnist)\n",
    "        \"\"\")\n",
    "        \n",
    "        \n",
    "        w_local, c_local = wc_from_eng(c,'cnn')\n",
    "        w_local = flatten_matrix(w_local)\n",
    "        #calculate local consumption per iteration\n",
    "        c_per = np.array(c_local)/torque_aggregator\n",
    "        w_aggregator = global_update(w_local, data_size)\n",
    "        w_aggregator = wrangle_matrix(w_aggregator, parameter_length_list)\n",
    "        if stop:\n",
    "            w_final = w_aggregator\n",
    "            break\n",
    "        #c_local.sum() equal to c*t\n",
    "        s = s + np.array(c_local).sum()+ b\n",
    "        \n",
    "        if t_0 > 0:\n",
    "            belta_local, grad_local = bg_from_eng(c,'cnn')\n",
    "            grad_local = flatten_matrix(grad_local)\n",
    "            belta_aggregator = belta_update(belta_local,data_size)\n",
    "            grad_aggregator = grad_update(grad_local,data_size)\n",
    "            delta_aggregator = delta_update(grad_local, grad_aggregator, data_size)\n",
    "            torque_aggregator, G_list = binary_search(torque_aggregator, delta_aggregator, belta_aggregator, gamma, phi)\n",
    "            print('New torque is:',torque_aggregator)\n",
    "        \n",
    "        toc = time.time()\n",
    "        b = toc - tic\n",
    "        temp = s + torque_aggregator*c_per.sum() + b\n",
    "        if temp >= R:\n",
    "            torque_max = (R-b-s)/c_per.sum()\n",
    "            G_list = np.array(G_list)\n",
    "            G_min = G_list.min()\n",
    "            for i, item in enumerate(G_list):\n",
    "                if item >= torque_max:\n",
    "                    itme = G_min\n",
    "            torque_aggregator = np.argmax(G_list) + 1\n",
    "            stop = True "
   ]
  },
  {
   "cell_type": "code",
   "execution_count": null,
   "metadata": {},
   "outputs": [],
   "source": []
  }
 ],
 "metadata": {
  "kernelspec": {
   "display_name": "Python 3",
   "language": "python",
   "name": "python3"
  },
  "language_info": {
   "codemirror_mode": {
    "name": "ipython",
    "version": 3
   },
   "file_extension": ".py",
   "mimetype": "text/x-python",
   "name": "python",
   "nbconvert_exporter": "python",
   "pygments_lexer": "ipython3",
   "version": "3.6.5"
  }
 },
 "nbformat": 4,
 "nbformat_minor": 2
}
