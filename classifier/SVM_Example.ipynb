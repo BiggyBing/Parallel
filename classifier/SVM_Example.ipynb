{
 "cells": [
  {
   "cell_type": "code",
   "execution_count": 32,
   "metadata": {},
   "outputs": [],
   "source": [
    "import time \n",
    "import numpy as np\n",
    "import ipyparallel as ipp\n",
    "from svm import SVM\n",
    "from AggregatorFunc import snd_to_eng, wc_from_eng, global_update, bg_from_eng, belta_update, grad_update, delta_update, binary_search"
   ]
  },
  {
   "cell_type": "code",
   "execution_count": 33,
   "metadata": {},
   "outputs": [],
   "source": [
    "c = ipp.Client()"
   ]
  },
  {
   "cell_type": "code",
   "execution_count": 34,
   "metadata": {},
   "outputs": [],
   "source": [
    "dview = c[:]"
   ]
  },
  {
   "cell_type": "code",
   "execution_count": 35,
   "metadata": {},
   "outputs": [
    {
     "name": "stdout",
     "output_type": "stream",
     "text": [
      "['D:\\\\GitHub\\\\Parallel\\\\classifier', 'D:\\\\GitHub\\\\Parallel\\\\classifier', 'D:\\\\GitHub\\\\Parallel\\\\classifier', 'D:\\\\GitHub\\\\Parallel\\\\classifier']\n"
     ]
    }
   ],
   "source": [
    "import os\n",
    "dview.map(os.chdir, ['D:/GitHub/Parallel/classifier']*len(c.ids))\n",
    "print(dview.apply_sync(os.getcwd))"
   ]
  },
  {
   "cell_type": "code",
   "execution_count": 76,
   "metadata": {},
   "outputs": [],
   "source": [
    "from keras.datasets import mnist\n",
    "(x_train, y_train),(x_test, y_test) = mnist.load_data()"
   ]
  },
  {
   "cell_type": "code",
   "execution_count": 77,
   "metadata": {},
   "outputs": [],
   "source": [
    "train_feature = x_train.reshape(x_train.shape[0],-1,)\n",
    "train_label = y_train"
   ]
  },
  {
   "cell_type": "code",
   "execution_count": 79,
   "metadata": {},
   "outputs": [],
   "source": [
    "#Label training targets by even(1) and odd(-1)\n",
    "train_target = np.zeros(train_label.shape)\n",
    "for i in range(len(train_target)):\n",
    "    if train_label[i]%2 == 0:\n",
    "        train_target[i] = 1\n",
    "    else:\n",
    "        train_target[i] = -1"
   ]
  },
  {
   "cell_type": "code",
   "execution_count": 81,
   "metadata": {},
   "outputs": [],
   "source": [
    "#sending date to engines\n",
    "c[0]['X'] = train_feature[:15000]\n",
    "c[1]['X'] = train_feature[15000:30000]\n",
    "c[2]['X'] = train_feature[30000:45000]\n",
    "c[3]['X'] = train_feature[45000:]\n",
    "\n",
    "c[0]['y'] = train_target[:15000]\n",
    "c[1]['y'] = train_target[15000:30000]\n",
    "c[2]['y'] = train_target[30000:45000]\n",
    "c[3]['y'] = train_target[45000:]"
   ]
  },
  {
   "cell_type": "code",
   "execution_count": 115,
   "metadata": {},
   "outputs": [],
   "source": [
    "t = 0\n",
    "s = 0\n",
    "b = 0 # aggregator consumption\n",
    "R = 15\n",
    "\n",
    "data_size = np.array([15000,15000,15000,15000])\n",
    "gamma = 10\n",
    "phi = 0.2\n",
    "w_aggregator = np.zeros(len(train_feature[0]))\n",
    "torque_aggregator = 1\n",
    "stop = False"
   ]
  },
  {
   "cell_type": "code",
   "execution_count": 116,
   "metadata": {},
   "outputs": [],
   "source": [
    "svm = SVM()\n",
    "dview.push(dict(SVM = SVM))\n",
    "#sending LinearRegression object to engines\n",
    "dview['svm'] = svm"
   ]
  },
  {
   "cell_type": "code",
   "execution_count": 118,
   "metadata": {},
   "outputs": [
    {
     "name": "stdout",
     "output_type": "stream",
     "text": [
      "New torque is: 1\n",
      "New torque is: 1\n",
      "New torque is: 1\n",
      "New torque is: 1\n",
      "New torque is: 1\n",
      "New torque is: 1\n",
      "New torque is: 1\n",
      "New torque is: 1\n"
     ]
    },
    {
     "name": "stderr",
     "output_type": "stream",
     "text": [
      "C:\\Users\\wenbi\\Anaconda2\\envs\\py36\\lib\\site-packages\\ipykernel_launcher.py:39: RuntimeWarning: divide by zero encountered in double_scalars\n"
     ]
    }
   ],
   "source": [
    "while True:\n",
    "        tic = time.time()\n",
    "        snd_to_eng(w_aggregator,torque_aggregator,c)\n",
    "        t_0 = t\n",
    "        t = t + torque_aggregator\n",
    "        dview.execute(\"\"\"\n",
    "import numpy as np\n",
    "import time    \n",
    "svm.Rec_from_Agg(w_aggregator, torque_aggregator)\n",
    "svm.time_record()\n",
    "if svm.t > 0:\n",
    "    svm.Est_Belta(X,y)\n",
    "svm.fit(X,y)\n",
    "        \"\"\")\n",
    "        \n",
    "        \n",
    "        w_local, c_local = wc_from_eng(c,'svm')\n",
    "        #calculate local consumption per iteration\n",
    "        c_per = np.array(c_local)/torque_aggregator\n",
    "        w_aggregator = global_update(w_local, data_size)\n",
    "        if stop:\n",
    "            w_final = w_aggregator\n",
    "            break\n",
    "        #c_local.sum() equal to c*t\n",
    "        s = s + np.array(c_local).sum()+ b\n",
    "        \n",
    "        if t_0 > 0:\n",
    "            belta_local, grad_local = bg_from_eng(c,'svm')\n",
    "            belta_aggregator = belta_update(belta_local,data_size)\n",
    "            grad_aggregator = grad_update(grad_local,data_size)\n",
    "            delta_aggregator = delta_update(grad_local, grad_aggregator, data_size)\n",
    "            torque_aggregator, G_list = binary_search(torque_aggregator, delta_aggregator, belta_aggregator, gamma, phi)\n",
    "            print('New torque is:',torque_aggregator)\n",
    "        \n",
    "        toc = time.time()\n",
    "        b = toc - tic\n",
    "        temp = s + torque_aggregator*c_per.sum() + b\n",
    "        if temp >= R:\n",
    "            torque_max = (R-b-s)/c_per.sum()\n",
    "            G_list = np.array(G_list)\n",
    "            G_min = G_list.min()\n",
    "            for i, item in enumerate(G_list):\n",
    "                if item >= torque_max:\n",
    "                    itme = G_min\n",
    "            torque_aggregator = np.argmax(G_list) + 1\n",
    "            stop = True "
   ]
  },
  {
   "cell_type": "code",
   "execution_count": 119,
   "metadata": {},
   "outputs": [],
   "source": [
    "pred = np.dot(train_feature,w_final)"
   ]
  },
  {
   "cell_type": "code",
   "execution_count": 120,
   "metadata": {},
   "outputs": [
    {
     "data": {
      "text/plain": [
       "array([-7320973.5724043 ,  2026368.66405463, -1211849.86096836,\n",
       "       -1615523.04006576, -3093949.35069831,   223289.21982547,\n",
       "       -5984845.85745675, -3957271.52129634, -3940302.35308118,\n",
       "        2630924.55430885])"
      ]
     },
     "execution_count": 120,
     "metadata": {},
     "output_type": "execute_result"
    }
   ],
   "source": [
    "pred[:10]"
   ]
  },
  {
   "cell_type": "code",
   "execution_count": 121,
   "metadata": {},
   "outputs": [],
   "source": [
    "for i in range(len(pred)):\n",
    "    if pred[i]>0:\n",
    "        pred[i]= 1\n",
    "    else:\n",
    "        pred[i] = -1"
   ]
  },
  {
   "cell_type": "code",
   "execution_count": 122,
   "metadata": {},
   "outputs": [],
   "source": [
    "flag=0\n",
    "for i in range(len(pred)):\n",
    "    if pred[i] - train_target[i] != 0:\n",
    "        flag+=1"
   ]
  },
  {
   "cell_type": "code",
   "execution_count": 123,
   "metadata": {},
   "outputs": [
    {
     "data": {
      "text/plain": [
       "0.14991666666666667"
      ]
     },
     "execution_count": 123,
     "metadata": {},
     "output_type": "execute_result"
    }
   ],
   "source": [
    "flag/60000"
   ]
  },
  {
   "cell_type": "code",
   "execution_count": null,
   "metadata": {},
   "outputs": [],
   "source": []
  },
  {
   "cell_type": "code",
   "execution_count": null,
   "metadata": {},
   "outputs": [],
   "source": []
  }
 ],
 "metadata": {
  "kernelspec": {
   "display_name": "Python 3",
   "language": "python",
   "name": "python3"
  },
  "language_info": {
   "codemirror_mode": {
    "name": "ipython",
    "version": 3
   },
   "file_extension": ".py",
   "mimetype": "text/x-python",
   "name": "python",
   "nbconvert_exporter": "python",
   "pygments_lexer": "ipython3",
   "version": "3.6.5"
  }
 },
 "nbformat": 4,
 "nbformat_minor": 2
}
